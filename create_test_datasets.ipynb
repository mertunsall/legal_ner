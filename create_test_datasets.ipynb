{
 "cells": [
  {
   "cell_type": "markdown",
   "metadata": {
    "colab_type": "text",
    "id": "view-in-github"
   },
   "source": [
    "<a href=\"https://colab.research.google.com/github/mertunsall/legal_ner/blob/main/create_test_datasets.ipynb\" target=\"_parent\"><img src=\"https://colab.research.google.com/assets/colab-badge.svg\" alt=\"Open In Colab\"/></a>"
   ]
  },
  {
   "cell_type": "code",
   "execution_count": 1,
   "metadata": {
    "colab": {
     "base_uri": "https://localhost:8080/"
    },
    "id": "6IFc_iyfNwyd",
    "outputId": "4bb02549-a12f-4971-ca1d-f1c6a323e946"
   },
   "outputs": [
    {
     "name": "stdout",
     "output_type": "stream",
     "text": [
      "Mounted at /content/drive\n",
      "/content/drive/MyDrive/ETH/ETH HS24/Data Science Lab/legal_ner_mert/legal_ner\n",
      "Already up to date.\n",
      "bge_data_exploration.ipynb\t  finetune_anon.py\t\t    __pycache__\n",
      "check_anon_data.ipynb\t\t  finetune_citation.py\t\t    random_name_samplers.py\n",
      "check_citation_data.ipynb\t  finetune_data\t\t\t    README.md\n",
      "check_ood_data.ipynb\t\t  finetune_generalist.py\t    requirements.txt\n",
      "check_pretrain_data.ipynb\t  finetune_main.py\t\t    synthetic_loc_generation.ipynb\n",
      "chunk_anon_data.ipynb\t\t  finetune_multi_merged_v1.py\t    test_anon.ipynb\n",
      "company_dataset_generation.ipynb  finetune_multi_merged_v2.py\t    test_citation_extract.ipynb\n",
      "config_synthetic_generation.yaml  finetune.py\t\t\t    test_data_all\n",
      "create_baseline_test_data.ipynb   generalist_data\t\t    test_generalist.ipynb\n",
      "create_citation_extract.ipynb\t  main_anon_dataset_creation.ipynb  test_ood_anon.ipynb\n",
      "create_generalist_data.ipynb\t  merge_datasets.ipynb\t\t    utils.py\n",
      "create_test_datasets.ipynb\t  models_generalist\t\t    wandb\n",
      "dataset_converter.ipynb\t\t  mount_drive_and_finetune.ipynb\n",
      "explore_datasets.ipynb\t\t  push_to_hub.py\n"
     ]
    }
   ],
   "source": [
    "from google.colab import drive\n",
    "drive.mount('/content/drive')\n",
    "%cd \"/content/drive/MyDrive/ETH/ETH HS24/Data Science Lab/legal_ner_mert/legal_ner\"\n",
    "! git pull\n",
    "! ls"
   ]
  },
  {
   "cell_type": "code",
   "execution_count": null,
   "metadata": {
    "id": "GRqu-wryOyQd"
   },
   "outputs": [],
   "source": [
    "import json\n",
    "import os\n",
    "\n",
    "import random\n",
    "from collections import Counter"
   ]
  },
  {
   "cell_type": "code",
   "execution_count": null,
   "metadata": {
    "id": "zOLZkqW0PGiE"
   },
   "outputs": [],
   "source": [
    "test_data_dir = f\"test_data_all/\""
   ]
  },
  {
   "cell_type": "code",
   "execution_count": null,
   "metadata": {
    "id": "uqlWGVYLNk0F"
   },
   "outputs": [],
   "source": [
    "with open(os.path.join(test_data_dir,f\"anon_test_non_empty.json\"),'r') as f:\n",
    "  anon_ne = json.load(f)"
   ]
  },
  {
   "cell_type": "code",
   "execution_count": null,
   "metadata": {
    "id": "7xh4f6TcNpoE"
   },
   "outputs": [],
   "source": [
    "with open(os.path.join(test_data_dir,f\"anon_test_empty.json\"),'r') as f:\n",
    "  anon_empty = json.load(f)"
   ]
  },
  {
   "cell_type": "code",
   "execution_count": null,
   "metadata": {
    "id": "hnB0PtCDPgfX"
   },
   "outputs": [],
   "source": [
    "with open(os.path.join(test_data_dir,\"citation_test.json\"),'r') as f:\n",
    "  citations = json.load(f)"
   ]
  },
  {
   "cell_type": "code",
   "execution_count": null,
   "metadata": {
    "id": "1rwR5EKaPi2Q"
   },
   "outputs": [],
   "source": [
    "with open(os.path.join(test_data_dir,\"urchadesynthetic-pii-ner-mistral-v1_test.json\"),'r') as f:\n",
    "  pii = json.load(f)"
   ]
  },
  {
   "cell_type": "markdown",
   "metadata": {
    "id": "njjGBbaRWVXV"
   },
   "source": [
    "# utils"
   ]
  },
  {
   "cell_type": "code",
   "execution_count": null,
   "metadata": {
    "id": "nP9rAMSmWWwa"
   },
   "outputs": [],
   "source": [
    "def get_label_dict(data : list[dict],most_common = 0):\n",
    "    output =  Counter([ner[2] for sample in data for ner in sample['ner']])\n",
    "\n",
    "    if most_common:\n",
    "        return output.most_common(most_common)\n",
    "\n",
    "    else:\n",
    "        return output"
   ]
  },
  {
   "cell_type": "markdown",
   "metadata": {
    "id": "qNPwOThzQK__"
   },
   "source": [
    "10-10-10.json"
   ]
  },
  {
   "cell_type": "code",
   "execution_count": null,
   "metadata": {
    "id": "8NrhB-etQMh6"
   },
   "outputs": [],
   "source": [
    "random.seed(42)\n",
    "test_v1 = random.sample(anon_ne,10000) + random.sample(anon_empty,10000) + random.sample(citations,10000)\n",
    "\n",
    "with open(os.path.join(test_data_dir,'10_10_10.json'),'w') as f:\n",
    "  json.dump(test_v1,f)"
   ]
  },
  {
   "cell_type": "markdown",
   "metadata": {
    "id": "iDpHFEZeVbTZ"
   },
   "source": [
    "pii-top100.json"
   ]
  },
  {
   "cell_type": "code",
   "execution_count": null,
   "metadata": {
    "id": "u_7TSyVzWkci"
   },
   "outputs": [],
   "source": [
    "top_100_labels = [x[0] for x in get_label_dict(pii, 100)]\n",
    "top_150_labels = [x[0] for x in get_label_dict(pii, 150)]"
   ]
  },
  {
   "cell_type": "code",
   "execution_count": null,
   "metadata": {
    "colab": {
     "base_uri": "https://localhost:8080/"
    },
    "id": "cB8PWCvuWsLC",
    "outputId": "1795b202-f86f-4fc8-a55e-b48b0769c0da"
   },
   "outputs": [
    {
     "name": "stdout",
     "output_type": "stream",
     "text": [
      "673\n"
     ]
    }
   ],
   "source": [
    "pii_filtered = []\n",
    "\n",
    "for sample in pii:\n",
    "  ner_labels = [x[2] for x in sample['ner']]\n",
    "\n",
    "  if all(label in top_100_labels for label in ner_labels):\n",
    "    pii_filtered.append(sample)\n",
    "\n",
    "print(len(pii_filtered))"
   ]
  },
  {
   "cell_type": "code",
   "execution_count": null,
   "metadata": {
    "id": "iTSrWfP-YSnX"
   },
   "outputs": [],
   "source": [
    "with open(os.path.join(test_data_dir,f\"pii_top_100.json\"),'w') as f:\n",
    "  json.dump(pii_filtered,f)"
   ]
  },
  {
   "cell_type": "code",
   "execution_count": null,
   "metadata": {
    "colab": {
     "base_uri": "https://localhost:8080/"
    },
    "id": "eMD8KmdaYoIJ",
    "outputId": "7199c14b-0499-4498-8c38-e9553bdb61a6"
   },
   "outputs": [
    {
     "name": "stdout",
     "output_type": "stream",
     "text": [
      "835\n"
     ]
    }
   ],
   "source": [
    "pii_filtered_150 = []\n",
    "\n",
    "for sample in pii:\n",
    "  ner_labels = [x[2] for x in sample['ner']]\n",
    "\n",
    "  if all(label in top_150_labels for label in ner_labels):\n",
    "    pii_filtered_150.append(sample)\n",
    "\n",
    "print(len(pii_filtered_150))"
   ]
  },
  {
   "cell_type": "code",
   "execution_count": null,
   "metadata": {
    "id": "UW9ak2N3Y1nf"
   },
   "outputs": [],
   "source": [
    "with open(os.path.join(test_data_dir,f\"pii_top_150.json\"),'w') as f:\n",
    "  json.dump(pii_filtered_150,f)"
   ]
  }
 ],
 "metadata": {
  "colab": {
   "authorship_tag": "ABX9TyPQvXCegG3zhiViPrgH1FWY",
   "include_colab_link": true,
   "provenance": []
  },
  "kernelspec": {
   "display_name": "DSL_NER",
   "language": "python",
   "name": "python3"
  },
  "language_info": {
   "name": "python",
   "version": "3.11.10"
  }
 },
 "nbformat": 4,
 "nbformat_minor": 0
}
