{
 "cells": [
  {
   "cell_type": "code",
   "execution_count": 3,
   "metadata": {
    "id": "GRqu-wryOyQd"
   },
   "outputs": [],
   "source": [
    "import json\n",
    "import os\n",
    "\n",
    "import random\n",
    "from collections import Counter"
   ]
  },
  {
   "cell_type": "code",
   "execution_count": 5,
   "metadata": {
    "id": "zOLZkqW0PGiE"
   },
   "outputs": [],
   "source": [
    "test_data_dir = f\"test_data_all/\""
   ]
  },
  {
   "cell_type": "code",
   "execution_count": null,
   "metadata": {
    "id": "uqlWGVYLNk0F"
   },
   "outputs": [],
   "source": [
    "with open(os.path.join(test_data_dir,f\"anon_test_non_empty.json\"),'r') as f:\n",
    "  anon_ne = json.load(f)"
   ]
  },
  {
   "cell_type": "code",
   "execution_count": null,
   "metadata": {
    "id": "7xh4f6TcNpoE"
   },
   "outputs": [],
   "source": [
    "with open(os.path.join(test_data_dir,f\"anon_test_empty.json\"),'r') as f:\n",
    "  anon_empty = json.load(f)"
   ]
  },
  {
   "cell_type": "code",
   "execution_count": null,
   "metadata": {
    "id": "hnB0PtCDPgfX"
   },
   "outputs": [],
   "source": [
    "with open(os.path.join(test_data_dir,\"citation_test.json\"),'r') as f:\n",
    "  citations = json.load(f)"
   ]
  },
  {
   "cell_type": "code",
   "execution_count": null,
   "metadata": {
    "id": "1rwR5EKaPi2Q"
   },
   "outputs": [],
   "source": [
    "with open(os.path.join(test_data_dir,\"urchadesynthetic-pii-ner-mistral-v1_test.json\"),'r') as f:\n",
    "  pii = json.load(f)"
   ]
  },
  {
   "cell_type": "code",
   "execution_count": 6,
   "metadata": {},
   "outputs": [],
   "source": [
    "with open(os.path.join(test_data_dir,\"pile_mistral_v0.1_test.json\"),'r') as f:\n",
    "  pile_mistral = json.load(f)"
   ]
  },
  {
   "cell_type": "markdown",
   "metadata": {
    "id": "njjGBbaRWVXV"
   },
   "source": [
    "# utils"
   ]
  },
  {
   "cell_type": "code",
   "execution_count": null,
   "metadata": {
    "id": "nP9rAMSmWWwa"
   },
   "outputs": [],
   "source": [
    "def get_label_dict(data : list[dict],most_common = 0):\n",
    "    output =  Counter([ner[2] for sample in data for ner in sample['ner']])\n",
    "\n",
    "    if most_common:\n",
    "        return output.most_common(most_common)\n",
    "\n",
    "    else:\n",
    "        return output"
   ]
  },
  {
   "cell_type": "code",
   "execution_count": 1,
   "metadata": {},
   "outputs": [],
   "source": [
    "def get_top_x_labels(sample,x : int) -> list:\n",
    "    return list(set([x[0] for x in get_label_dict(sample,most_common=x)]))"
   ]
  },
  {
   "cell_type": "code",
   "execution_count": null,
   "metadata": {},
   "outputs": [],
   "source": [
    "def check_subset(sample, superset_labels : list) -> bool:\n",
    "    ner_labels = set([x[2] for x in sample['ner']])\n",
    "\n",
    "    return ner_labels.issubset(set(superset_labels))"
   ]
  },
  {
   "cell_type": "markdown",
   "metadata": {
    "id": "qNPwOThzQK__"
   },
   "source": [
    "10-10-10.json"
   ]
  },
  {
   "cell_type": "code",
   "execution_count": null,
   "metadata": {
    "id": "8NrhB-etQMh6"
   },
   "outputs": [],
   "source": [
    "random.seed(42)\n",
    "test_v1 = random.sample(anon_ne,10000) + random.sample(anon_empty,10000) + random.sample(citations,10000)\n",
    "\n",
    "with open(os.path.join(test_data_dir,'10_10_10.json'),'w') as f:\n",
    "  json.dump(test_v1,f)"
   ]
  },
  {
   "cell_type": "markdown",
   "metadata": {
    "id": "iDpHFEZeVbTZ"
   },
   "source": [
    "pii-top100.json"
   ]
  },
  {
   "cell_type": "code",
   "execution_count": null,
   "metadata": {
    "id": "u_7TSyVzWkci"
   },
   "outputs": [],
   "source": [
    "top_100_labels = [x[0] for x in get_label_dict(pii, 100)]\n",
    "top_150_labels = [x[0] for x in get_label_dict(pii, 150)]"
   ]
  },
  {
   "cell_type": "code",
   "execution_count": null,
   "metadata": {
    "colab": {
     "base_uri": "https://localhost:8080/"
    },
    "id": "cB8PWCvuWsLC",
    "outputId": "1795b202-f86f-4fc8-a55e-b48b0769c0da"
   },
   "outputs": [
    {
     "name": "stdout",
     "output_type": "stream",
     "text": [
      "673\n"
     ]
    }
   ],
   "source": [
    "pii_filtered = []\n",
    "\n",
    "for sample in pii:\n",
    "  ner_labels = [x[2] for x in sample['ner']]\n",
    "\n",
    "  if all(label in top_100_labels for label in ner_labels):\n",
    "    pii_filtered.append(sample)\n",
    "\n",
    "print(len(pii_filtered))"
   ]
  },
  {
   "cell_type": "code",
   "execution_count": null,
   "metadata": {
    "id": "iTSrWfP-YSnX"
   },
   "outputs": [],
   "source": [
    "with open(os.path.join(test_data_dir,f\"pii_top_100.json\"),'w') as f:\n",
    "  json.dump(pii_filtered,f)"
   ]
  },
  {
   "cell_type": "code",
   "execution_count": null,
   "metadata": {
    "colab": {
     "base_uri": "https://localhost:8080/"
    },
    "id": "eMD8KmdaYoIJ",
    "outputId": "7199c14b-0499-4498-8c38-e9553bdb61a6"
   },
   "outputs": [
    {
     "name": "stdout",
     "output_type": "stream",
     "text": [
      "835\n"
     ]
    }
   ],
   "source": [
    "pii_filtered_150 = []\n",
    "\n",
    "for sample in pii:\n",
    "  ner_labels = [x[2] for x in sample['ner']]\n",
    "\n",
    "  if all(label in top_150_labels for label in ner_labels):\n",
    "    pii_filtered_150.append(sample)\n",
    "\n",
    "print(len(pii_filtered_150))"
   ]
  },
  {
   "cell_type": "code",
   "execution_count": null,
   "metadata": {
    "id": "UW9ak2N3Y1nf"
   },
   "outputs": [],
   "source": [
    "with open(os.path.join(test_data_dir,f\"pii_top_150.json\"),'w') as f:\n",
    "  json.dump(pii_filtered_150,f)"
   ]
  },
  {
   "cell_type": "code",
   "execution_count": null,
   "metadata": {},
   "outputs": [],
   "source": [
    "random.seed(0)\n",
    "test_anon_10K = random.sample(anon_ne,10000)\n",
    "\n",
    "with open(os.path.join(test_data_dir,'test_anon_10K.json'),'w') as f:\n",
    "  json.dump(test_anon_10K,f)"
   ]
  },
  {
   "cell_type": "code",
   "execution_count": null,
   "metadata": {},
   "outputs": [],
   "source": [
    "pile_mistral_top_100 = get_top_x_labels(pile_mistral,100)\n",
    "print(pile_mistral_top_100)\n",
    "\n",
    "pile_mistral_filtered_100 = [sample for sample in pile_mistral if check_subset(sample,pile_mistral_top_100)]\n",
    "print(len(pile_mistral_filtered_100))\n",
    "\n",
    "with open(os.path.join(test_data_dir,f\"pile_mistral_top_100.json\"),'w') as f:\n",
    "    json.dump(pile_mistral_filtered_100,f)"
   ]
  }
 ],
 "metadata": {
  "colab": {
   "authorship_tag": "ABX9TyPQvXCegG3zhiViPrgH1FWY",
   "include_colab_link": true,
   "provenance": []
  },
  "kernelspec": {
   "display_name": "DSL_NER",
   "language": "python",
   "name": "python3"
  },
  "language_info": {
   "codemirror_mode": {
    "name": "ipython",
    "version": 3
   },
   "file_extension": ".py",
   "mimetype": "text/x-python",
   "name": "python",
   "nbconvert_exporter": "python",
   "pygments_lexer": "ipython3",
   "version": "3.11.10"
  }
 },
 "nbformat": 4,
 "nbformat_minor": 0
}
