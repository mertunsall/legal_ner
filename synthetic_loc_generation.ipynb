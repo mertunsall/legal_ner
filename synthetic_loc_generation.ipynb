{
 "cells": [
  {
   "cell_type": "markdown",
   "metadata": {},
   "source": [
    "This script is used to produce the list of locations used to synthetically fill the anonymized FSCD decision documents"
   ]
  },
  {
   "cell_type": "code",
   "execution_count": 42,
   "metadata": {},
   "outputs": [],
   "source": [
    "import pandas as pd\n",
    "import json\n",
    "import os"
   ]
  },
  {
   "cell_type": "code",
   "execution_count": 109,
   "metadata": {},
   "outputs": [],
   "source": [
    "countries = ['de','ch','fr','at','it']\n",
    "\n",
    "raw_loc_path = f\"auxiliary_data/locations/\"\n",
    "save_path = f\"auxiliary_data/final/\"\n",
    "file_names = ['place-city.ndjson','place-town.ndjson','place-village.ndjson','place-hamlet.ndjson']\n"
   ]
  },
  {
   "cell_type": "code",
   "execution_count": 58,
   "metadata": {},
   "outputs": [],
   "source": [
    "data = {}\n",
    "\n",
    "data_stats = {}\n",
    "data_stats['size'] = {}\n",
    "\n",
    "for country in countries:\n",
    "\n",
    "    country_path = os.path.join(raw_loc_path,country)\n",
    "\n",
    "    country_dfs = []\n",
    "\n",
    "    types = file_names #cities, towns, villages, hamlets\n",
    "    \n",
    "    if not country == 'ch':\n",
    "        types = types[:2] #only take city and town names of non-swiss places\n",
    "\n",
    "    else:\n",
    "        types = types[:3] #use city, towns, villages for swiss-places\n",
    "\n",
    "    for file_name in types:\n",
    "        path = os.path.join(country_path,file_name)\n",
    "\n",
    "        try:\n",
    "            country_dfs.append(pd.read_json(path,lines=True)[\"name\"])\n",
    "\n",
    "        except:\n",
    "            print(f\"error in {country} - {file_name}\")\n",
    "\n",
    "    data[country] = pd.concat(country_dfs,axis=0,ignore_index=True)\n",
    "    data[country] = data[country].dropna(how='any')\n",
    "    data_stats['size'][country] = len(data[country])\n",
    "        "
   ]
  },
  {
   "cell_type": "code",
   "execution_count": 60,
   "metadata": {},
   "outputs": [
    {
     "data": {
      "text/plain": [
       "0          Zürich\n",
       "1          Genève\n",
       "2        Lausanne\n",
       "3            Bern\n",
       "4          Luzern\n",
       "          ...    \n",
       "3763      Samnaun\n",
       "3764        Laret\n",
       "3765     Ravaisch\n",
       "3766         Plan\n",
       "3767    Compatsch\n",
       "Name: name, Length: 3757, dtype: object"
      ]
     },
     "execution_count": 60,
     "metadata": {},
     "output_type": "execute_result"
    }
   ],
   "source": [
    "data['ch']"
   ]
  },
  {
   "cell_type": "code",
   "execution_count": 59,
   "metadata": {},
   "outputs": [
    {
     "data": {
      "text/plain": [
       "{'de': 2433, 'ch': 3757, 'fr': 1231, 'at': 241, 'it': 1316}"
      ]
     },
     "execution_count": 59,
     "metadata": {},
     "output_type": "execute_result"
    }
   ],
   "source": [
    "data_stats['size']"
   ]
  },
  {
   "cell_type": "code",
   "execution_count": 97,
   "metadata": {},
   "outputs": [],
   "source": [
    "loc_data = pd.concat([data[country] for country in countries],ignore_index=True)\n",
    "loc_data = pd.DataFrame({\"name\" : loc_data})"
   ]
  },
  {
   "cell_type": "code",
   "execution_count": 98,
   "metadata": {},
   "outputs": [
    {
     "data": {
      "text/html": [
       "<div>\n",
       "<style scoped>\n",
       "    .dataframe tbody tr th:only-of-type {\n",
       "        vertical-align: middle;\n",
       "    }\n",
       "\n",
       "    .dataframe tbody tr th {\n",
       "        vertical-align: top;\n",
       "    }\n",
       "\n",
       "    .dataframe thead th {\n",
       "        text-align: right;\n",
       "    }\n",
       "</style>\n",
       "<table border=\"1\" class=\"dataframe\">\n",
       "  <thead>\n",
       "    <tr style=\"text-align: right;\">\n",
       "      <th></th>\n",
       "      <th>name</th>\n",
       "    </tr>\n",
       "  </thead>\n",
       "  <tbody>\n",
       "    <tr>\n",
       "      <th>6683</th>\n",
       "      <td>Saint-Maximin-la-Sainte-Baume</td>\n",
       "    </tr>\n",
       "    <tr>\n",
       "      <th>93</th>\n",
       "      <td>Leipzig</td>\n",
       "    </tr>\n",
       "    <tr>\n",
       "      <th>8447</th>\n",
       "      <td>Loreto</td>\n",
       "    </tr>\n",
       "    <tr>\n",
       "      <th>7657</th>\n",
       "      <td>Poysdorf</td>\n",
       "    </tr>\n",
       "    <tr>\n",
       "      <th>994</th>\n",
       "      <td>Kamp-Lintfort</td>\n",
       "    </tr>\n",
       "    <tr>\n",
       "      <th>2683</th>\n",
       "      <td>Genthod</td>\n",
       "    </tr>\n",
       "    <tr>\n",
       "      <th>4985</th>\n",
       "      <td>Gerra</td>\n",
       "    </tr>\n",
       "    <tr>\n",
       "      <th>8746</th>\n",
       "      <td>Treviolo</td>\n",
       "    </tr>\n",
       "    <tr>\n",
       "      <th>6159</th>\n",
       "      <td>Madulain</td>\n",
       "    </tr>\n",
       "    <tr>\n",
       "      <th>3460</th>\n",
       "      <td>Middes</td>\n",
       "    </tr>\n",
       "    <tr>\n",
       "      <th>5192</th>\n",
       "      <td>Affeier</td>\n",
       "    </tr>\n",
       "    <tr>\n",
       "      <th>8660</th>\n",
       "      <td>Gallarate</td>\n",
       "    </tr>\n",
       "    <tr>\n",
       "      <th>7938</th>\n",
       "      <td>Anzola dell'Emilia</td>\n",
       "    </tr>\n",
       "    <tr>\n",
       "      <th>1076</th>\n",
       "      <td>Plettenberg</td>\n",
       "    </tr>\n",
       "    <tr>\n",
       "      <th>3541</th>\n",
       "      <td>Villeret</td>\n",
       "    </tr>\n",
       "    <tr>\n",
       "      <th>5060</th>\n",
       "      <td>Gudo</td>\n",
       "    </tr>\n",
       "    <tr>\n",
       "      <th>4279</th>\n",
       "      <td>Selzach</td>\n",
       "    </tr>\n",
       "    <tr>\n",
       "      <th>1945</th>\n",
       "      <td>Elsterberg</td>\n",
       "    </tr>\n",
       "    <tr>\n",
       "      <th>1718</th>\n",
       "      <td>Geretsried</td>\n",
       "    </tr>\n",
       "    <tr>\n",
       "      <th>2960</th>\n",
       "      <td>Eisten</td>\n",
       "    </tr>\n",
       "    <tr>\n",
       "      <th>4638</th>\n",
       "      <td>Lieli</td>\n",
       "    </tr>\n",
       "    <tr>\n",
       "      <th>4237</th>\n",
       "      <td>Courroux</td>\n",
       "    </tr>\n",
       "    <tr>\n",
       "      <th>8444</th>\n",
       "      <td>Recanati</td>\n",
       "    </tr>\n",
       "    <tr>\n",
       "      <th>5215</th>\n",
       "      <td>Küssnacht</td>\n",
       "    </tr>\n",
       "    <tr>\n",
       "      <th>4691</th>\n",
       "      <td>Holderbank</td>\n",
       "    </tr>\n",
       "    <tr>\n",
       "      <th>7890</th>\n",
       "      <td>Serravalle Pistoiese</td>\n",
       "    </tr>\n",
       "    <tr>\n",
       "      <th>8384</th>\n",
       "      <td>Castiglion Fiorentino</td>\n",
       "    </tr>\n",
       "    <tr>\n",
       "      <th>7174</th>\n",
       "      <td>Liévin</td>\n",
       "    </tr>\n",
       "    <tr>\n",
       "      <th>7228</th>\n",
       "      <td>Noyelles-Godault</td>\n",
       "    </tr>\n",
       "    <tr>\n",
       "      <th>1046</th>\n",
       "      <td>Marienheide</td>\n",
       "    </tr>\n",
       "  </tbody>\n",
       "</table>\n",
       "</div>"
      ],
      "text/plain": [
       "                               name\n",
       "6683  Saint-Maximin-la-Sainte-Baume\n",
       "93                          Leipzig\n",
       "8447                         Loreto\n",
       "7657                       Poysdorf\n",
       "994                   Kamp-Lintfort\n",
       "2683                        Genthod\n",
       "4985                          Gerra\n",
       "8746                       Treviolo\n",
       "6159                       Madulain\n",
       "3460                         Middes\n",
       "5192                        Affeier\n",
       "8660                      Gallarate\n",
       "7938             Anzola dell'Emilia\n",
       "1076                    Plettenberg\n",
       "3541                       Villeret\n",
       "5060                           Gudo\n",
       "4279                        Selzach\n",
       "1945                     Elsterberg\n",
       "1718                     Geretsried\n",
       "2960                         Eisten\n",
       "4638                          Lieli\n",
       "4237                       Courroux\n",
       "8444                       Recanati\n",
       "5215                      Küssnacht\n",
       "4691                     Holderbank\n",
       "7890           Serravalle Pistoiese\n",
       "8384          Castiglion Fiorentino\n",
       "7174                         Liévin\n",
       "7228               Noyelles-Godault\n",
       "1046                    Marienheide"
      ]
     },
     "execution_count": 98,
     "metadata": {},
     "output_type": "execute_result"
    }
   ],
   "source": [
    "loc_data.sample(30,random_state=42)\n"
   ]
  },
  {
   "cell_type": "code",
   "execution_count": 99,
   "metadata": {},
   "outputs": [
    {
     "name": "stdout",
     "output_type": "stream",
     "text": [
      "number of locations in loc_data : 8978\n"
     ]
    }
   ],
   "source": [
    "print(f\"number of locations in loc_data : {len(loc_data)}\")"
   ]
  },
  {
   "cell_type": "code",
   "execution_count": 100,
   "metadata": {},
   "outputs": [
    {
     "name": "stdout",
     "output_type": "stream",
     "text": [
      "length of swiss municipalites datset : 2175\n"
     ]
    },
    {
     "data": {
      "text/html": [
       "<div>\n",
       "<style scoped>\n",
       "    .dataframe tbody tr th:only-of-type {\n",
       "        vertical-align: middle;\n",
       "    }\n",
       "\n",
       "    .dataframe tbody tr th {\n",
       "        vertical-align: top;\n",
       "    }\n",
       "\n",
       "    .dataframe thead th {\n",
       "        text-align: right;\n",
       "    }\n",
       "</style>\n",
       "<table border=\"1\" class=\"dataframe\">\n",
       "  <thead>\n",
       "    <tr style=\"text-align: right;\">\n",
       "      <th></th>\n",
       "      <th>name</th>\n",
       "    </tr>\n",
       "  </thead>\n",
       "  <tbody>\n",
       "    <tr>\n",
       "      <th>0</th>\n",
       "      <td>Aeugst am Albis</td>\n",
       "    </tr>\n",
       "    <tr>\n",
       "      <th>1</th>\n",
       "      <td>Affoltern am Albis</td>\n",
       "    </tr>\n",
       "    <tr>\n",
       "      <th>2</th>\n",
       "      <td>Bonstetten</td>\n",
       "    </tr>\n",
       "    <tr>\n",
       "      <th>3</th>\n",
       "      <td>Hausen am Albis</td>\n",
       "    </tr>\n",
       "    <tr>\n",
       "      <th>4</th>\n",
       "      <td>Hedingen</td>\n",
       "    </tr>\n",
       "  </tbody>\n",
       "</table>\n",
       "</div>"
      ],
      "text/plain": [
       "                 name\n",
       "0     Aeugst am Albis\n",
       "1  Affoltern am Albis\n",
       "2          Bonstetten\n",
       "3     Hausen am Albis\n",
       "4            Hedingen"
      ]
     },
     "execution_count": 100,
     "metadata": {},
     "output_type": "execute_result"
    }
   ],
   "source": [
    "municipalities = pd.read_csv(f\"auxiliary_data\\locations\\swiss_place_names.csv\")\n",
    "\n",
    "print(f\"length of swiss municipalites datset : {len(municipalities)}\")\n",
    "municipalities.head()"
   ]
  },
  {
   "cell_type": "code",
   "execution_count": 107,
   "metadata": {},
   "outputs": [
    {
     "data": {
      "text/html": [
       "<div>\n",
       "<style scoped>\n",
       "    .dataframe tbody tr th:only-of-type {\n",
       "        vertical-align: middle;\n",
       "    }\n",
       "\n",
       "    .dataframe tbody tr th {\n",
       "        vertical-align: top;\n",
       "    }\n",
       "\n",
       "    .dataframe thead th {\n",
       "        text-align: right;\n",
       "    }\n",
       "</style>\n",
       "<table border=\"1\" class=\"dataframe\">\n",
       "  <thead>\n",
       "    <tr style=\"text-align: right;\">\n",
       "      <th></th>\n",
       "      <th>name</th>\n",
       "    </tr>\n",
       "  </thead>\n",
       "  <tbody>\n",
       "    <tr>\n",
       "      <th>9851</th>\n",
       "      <td>Eppenberg-Wöschnau</td>\n",
       "    </tr>\n",
       "    <tr>\n",
       "      <th>7244</th>\n",
       "      <td>Saint-Amand-les-Eaux</td>\n",
       "    </tr>\n",
       "    <tr>\n",
       "      <th>2394</th>\n",
       "      <td>Marlow</td>\n",
       "    </tr>\n",
       "    <tr>\n",
       "      <th>3413</th>\n",
       "      <td>Couvet</td>\n",
       "    </tr>\n",
       "    <tr>\n",
       "      <th>533</th>\n",
       "      <td>Eislingen/Fils</td>\n",
       "    </tr>\n",
       "    <tr>\n",
       "      <th>3069</th>\n",
       "      <td>Saint-Prex</td>\n",
       "    </tr>\n",
       "    <tr>\n",
       "      <th>7734</th>\n",
       "      <td>Brindisi</td>\n",
       "    </tr>\n",
       "    <tr>\n",
       "      <th>7611</th>\n",
       "      <td>St. Pölten</td>\n",
       "    </tr>\n",
       "    <tr>\n",
       "      <th>7684</th>\n",
       "      <td>Reggio Emilia</td>\n",
       "    </tr>\n",
       "    <tr>\n",
       "      <th>1421</th>\n",
       "      <td>Halberstadt</td>\n",
       "    </tr>\n",
       "  </tbody>\n",
       "</table>\n",
       "</div>"
      ],
      "text/plain": [
       "                      name\n",
       "9851    Eppenberg-Wöschnau\n",
       "7244  Saint-Amand-les-Eaux\n",
       "2394                Marlow\n",
       "3413                Couvet\n",
       "533         Eislingen/Fils\n",
       "3069            Saint-Prex\n",
       "7734              Brindisi\n",
       "7611            St. Pölten\n",
       "7684         Reggio Emilia\n",
       "1421           Halberstadt"
      ]
     },
     "execution_count": 107,
     "metadata": {},
     "output_type": "execute_result"
    }
   ],
   "source": [
    "#extend the all_loc_data with the swiss municipalities, removing dublicates\n",
    "\n",
    "all_loc_data = pd.concat([loc_data,municipalities],ignore_index=True,axis = 0).drop_duplicates()\n",
    "all_loc_data.head()\n",
    "all_loc_data.sample(10,random_state=42)"
   ]
  },
  {
   "cell_type": "code",
   "execution_count": 108,
   "metadata": {},
   "outputs": [
    {
     "name": "stdout",
     "output_type": "stream",
     "text": [
      "length of final dataset : 8965\n"
     ]
    }
   ],
   "source": [
    "print(f\"length of final dataset : {len(all_loc_data)}\")"
   ]
  },
  {
   "cell_type": "markdown",
   "metadata": {},
   "source": [
    "Save the dataset"
   ]
  },
  {
   "cell_type": "code",
   "execution_count": 113,
   "metadata": {},
   "outputs": [],
   "source": [
    "all_loc_data.to_csv(os.path.join(save_path,\"location_names.csv\"),index = False)"
   ]
  }
 ],
 "metadata": {
  "kernelspec": {
   "display_name": "DSL_NER",
   "language": "python",
   "name": "python3"
  },
  "language_info": {
   "codemirror_mode": {
    "name": "ipython",
    "version": 3
   },
   "file_extension": ".py",
   "mimetype": "text/x-python",
   "name": "python",
   "nbconvert_exporter": "python",
   "pygments_lexer": "ipython3",
   "version": "3.11.10"
  }
 },
 "nbformat": 4,
 "nbformat_minor": 2
}
