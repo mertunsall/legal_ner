{
 "cells": [
  {
   "cell_type": "code",
   "execution_count": 1,
   "metadata": {},
   "outputs": [],
   "source": [
    "import json\n",
    "\n",
    "citation_data_file = \"citation_data/swiss_citation_extraction_filtered.json\"\n",
    "anon_data_file = \"anon_data/chunked_ner_training_data.json\""
   ]
  },
  {
   "cell_type": "code",
   "execution_count": 2,
   "metadata": {},
   "outputs": [
    {
     "data": {
      "text/plain": [
       "(113464, 303794)"
      ]
     },
     "execution_count": 2,
     "metadata": {},
     "output_type": "execute_result"
    }
   ],
   "source": [
    "with open(citation_data_file, \"r\") as f:\n",
    "    citation_data = json.load(f)\n",
    "\n",
    "with open(anon_data_file, \"r\") as f:\n",
    "    anon_data = json.load(f)\n",
    "\n",
    "len(citation_data), len(anon_data)"
   ]
  },
  {
   "cell_type": "code",
   "execution_count": 3,
   "metadata": {},
   "outputs": [],
   "source": [
    "# merge the two datasets\n",
    "merged_data = citation_data + anon_data\n",
    "\n",
    "# write the merged data to a file\n",
    "merged_data_file = \"generalist_data/generalist_data.json\"\n",
    "\n",
    "with open(merged_data_file, \"w\") as f:\n",
    "    json.dump(merged_data, f, indent=2)"
   ]
  },
  {
   "cell_type": "code",
   "execution_count": null,
   "metadata": {},
   "outputs": [],
   "source": []
  }
 ],
 "metadata": {
  "kernelspec": {
   "display_name": "dslab",
   "language": "python",
   "name": "python3"
  },
  "language_info": {
   "codemirror_mode": {
    "name": "ipython",
    "version": 3
   },
   "file_extension": ".py",
   "mimetype": "text/x-python",
   "name": "python",
   "nbconvert_exporter": "python",
   "pygments_lexer": "ipython3",
   "version": "3.10.12"
  },
  "orig_nbformat": 4
 },
 "nbformat": 4,
 "nbformat_minor": 2
}
