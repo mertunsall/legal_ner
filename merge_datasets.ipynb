{
 "cells": [
  {
   "cell_type": "code",
   "execution_count": 1,
   "metadata": {},
   "outputs": [],
   "source": [
    "import json\n",
    "import os\n",
    "\n",
    "import random\n",
    "\n"
   ]
  },
  {
   "cell_type": "code",
   "execution_count": 18,
   "metadata": {},
   "outputs": [],
   "source": [
    "pretrain_path = f\"data_pretrain/train\"\n",
    "finetune_path = f\"anon_data/train/\"\n",
    "citation_path = f\"citation_data/\""
   ]
  },
  {
   "cell_type": "markdown",
   "metadata": {},
   "source": [
    "## Load data"
   ]
  },
  {
   "cell_type": "code",
   "execution_count": 12,
   "metadata": {},
   "outputs": [],
   "source": [
    "with open(os.path.join(pretrain_path,f\"pile_mistral_v0.1_train_val.json\"),'r') as f:\n",
    "    data_pile = json.load(f)"
   ]
  },
  {
   "cell_type": "code",
   "execution_count": 13,
   "metadata": {},
   "outputs": [],
   "source": [
    "with open(os.path.join(pretrain_path,f\"urchadesynthetic-pii-ner-mistral-v1_train_val.json\"),'r') as f:\n",
    "    data_pii = json.load(f)"
   ]
  },
  {
   "cell_type": "code",
   "execution_count": 6,
   "metadata": {},
   "outputs": [],
   "source": [
    "with open(os.path.join(finetune_path,f\"train_empty.json\"),'r') as f:\n",
    "    anon_data_train_empty = json.load(f)"
   ]
  },
  {
   "cell_type": "code",
   "execution_count": 7,
   "metadata": {},
   "outputs": [],
   "source": [
    "with open(os.path.join(finetune_path,f\"train_non_empty.json\"),'r') as f:\n",
    "    anon_data_train_non_empty = json.load(f)"
   ]
  },
  {
   "cell_type": "code",
   "execution_count": 9,
   "metadata": {},
   "outputs": [],
   "source": [
    "with open(os.path.join(finetune_path,f\"validation_empty.json\"),'r') as f:\n",
    "    anon_data_val_empty = json.load(f)"
   ]
  },
  {
   "cell_type": "code",
   "execution_count": null,
   "metadata": {},
   "outputs": [],
   "source": [
    "with open(os.path.join(finetune_path,f\"validation_non_empty.json\"),'r') as f:\n",
    "    anon_data_val_non_empty = json.load(f)"
   ]
  },
  {
   "cell_type": "code",
   "execution_count": 19,
   "metadata": {},
   "outputs": [],
   "source": [
    "with open(os.path.join(citation_path,f\"citation_train.json\"),'r') as f:\n",
    "    citation_data = json.load(f)"
   ]
  },
  {
   "cell_type": "code",
   "execution_count": 16,
   "metadata": {},
   "outputs": [
    {
     "name": "stdout",
     "output_type": "stream",
     "text": [
      "size pile-mistral :         17751\n",
      "size pii :                  17671\n",
      "size anon train empty :     564961\n",
      "size anon train n-empty :   303458\n"
     ]
    },
    {
     "ename": "NameError",
     "evalue": "name 'anon_data_val_empty' is not defined",
     "output_type": "error",
     "traceback": [
      "\u001b[1;31m---------------------------------------------------------------------------\u001b[0m",
      "\u001b[1;31mNameError\u001b[0m                                 Traceback (most recent call last)",
      "Cell \u001b[1;32mIn[16], line 5\u001b[0m\n\u001b[0;32m      3\u001b[0m \u001b[38;5;28mprint\u001b[39m(\u001b[38;5;124mf\u001b[39m\u001b[38;5;124m\"\u001b[39m\u001b[38;5;124msize anon train empty :     \u001b[39m\u001b[38;5;132;01m{\u001b[39;00m\u001b[38;5;28mlen\u001b[39m(anon_data_train_empty)\u001b[38;5;132;01m}\u001b[39;00m\u001b[38;5;124m\"\u001b[39m)\n\u001b[0;32m      4\u001b[0m \u001b[38;5;28mprint\u001b[39m(\u001b[38;5;124mf\u001b[39m\u001b[38;5;124m\"\u001b[39m\u001b[38;5;124msize anon train n-empty :   \u001b[39m\u001b[38;5;132;01m{\u001b[39;00m\u001b[38;5;28mlen\u001b[39m(anon_data_train_non_empty)\u001b[38;5;132;01m}\u001b[39;00m\u001b[38;5;124m\"\u001b[39m)\n\u001b[1;32m----> 5\u001b[0m \u001b[38;5;28mprint\u001b[39m(\u001b[38;5;124mf\u001b[39m\u001b[38;5;124m\"\u001b[39m\u001b[38;5;124msize anon val empty :       \u001b[39m\u001b[38;5;132;01m{\u001b[39;00m\u001b[38;5;28mlen\u001b[39m(anon_data_val_empty)\u001b[38;5;132;01m}\u001b[39;00m\u001b[38;5;124m\"\u001b[39m)\n\u001b[0;32m      6\u001b[0m \u001b[38;5;28mprint\u001b[39m(\u001b[38;5;124mf\u001b[39m\u001b[38;5;124m\"\u001b[39m\u001b[38;5;124msize anon val n-empty :     \u001b[39m\u001b[38;5;132;01m{\u001b[39;00m\u001b[38;5;28mlen\u001b[39m(anon_data_train_non_empty)\u001b[38;5;132;01m}\u001b[39;00m\u001b[38;5;124m\"\u001b[39m)\n",
      "\u001b[1;31mNameError\u001b[0m: name 'anon_data_val_empty' is not defined"
     ]
    }
   ],
   "source": [
    "print(f\"size pile-mistral :         {len(data_pile)}\")\n",
    "print(f\"size pii :                  {len(data_pii)}\")\n",
    "print(f\"size anon train empty :     {len(anon_data_train_empty)}\")\n",
    "print(f\"size anon train n-empty :   {len(anon_data_train_non_empty)}\")\n",
    "print(f\"size anon val empty :       {len(anon_data_val_empty)}\")\n",
    "print(f\"size anon val n-empty :     {len(anon_data_train_non_empty)}\")\n",
    "\n"
   ]
  },
  {
   "cell_type": "markdown",
   "metadata": {},
   "source": [
    "# Dataset mix = 1"
   ]
  },
  {
   "cell_type": "markdown",
   "metadata": {},
   "source": [
    "Data_pile-mistral : 90% of full dataset for training, 10% for testing -> 17.5K\n",
    "Data_pii : 90% of full dataset for training, 10% for testing -> 17.5K \n",
    "--> total pretrain data : 35K\n",
    "anon_data_train_non_empty:  randomly sample 10K\n",
    "anon_data_train_empty: randomly sample 10K\n",
    "citation_data: randomly sample 20K \n"
   ]
  },
  {
   "cell_type": "code",
   "execution_count": 20,
   "metadata": {},
   "outputs": [],
   "source": [
    "random.seed(42)\n",
    "\n",
    "merge_v1 = data_pile + data_pii + random.sample(anon_data_train_non_empty,10**4) + random.sample(anon_data_train_empty,10**4) + random.sample(citation_data,2*10**4)"
   ]
  },
  {
   "cell_type": "code",
   "execution_count": 22,
   "metadata": {},
   "outputs": [],
   "source": [
    "#save merge_v1 dataset for finetuning\n",
    "\n",
    "with open(f\"finetune_data/merged_v1.json\",'w') as f:\n",
    "    json.dump(merge_v1,f)"
   ]
  }
 ],
 "metadata": {
  "kernelspec": {
   "display_name": "DSL_NER",
   "language": "python",
   "name": "python3"
  },
  "language_info": {
   "codemirror_mode": {
    "name": "ipython",
    "version": 3
   },
   "file_extension": ".py",
   "mimetype": "text/x-python",
   "name": "python",
   "nbconvert_exporter": "python",
   "pygments_lexer": "ipython3",
   "version": "3.11.10"
  }
 },
 "nbformat": 4,
 "nbformat_minor": 2
}
