{
 "cells": [
  {
   "cell_type": "code",
   "execution_count": 1,
   "metadata": {
    "id": "GRqu-wryOyQd"
   },
   "outputs": [],
   "source": [
    "import json\n",
    "import os\n",
    "\n",
    "import random\n",
    "from collections import Counter"
   ]
  },
  {
   "cell_type": "code",
   "execution_count": 2,
   "metadata": {
    "id": "zOLZkqW0PGiE"
   },
   "outputs": [],
   "source": [
    "val_data_dir = f\"val_data_all/\""
   ]
  },
  {
   "cell_type": "code",
   "execution_count": 19,
   "metadata": {
    "id": "uqlWGVYLNk0F"
   },
   "outputs": [],
   "source": [
    "with open(os.path.join(val_data_dir,f\"anon_validation_non_empty.json\"),'r') as f:\n",
    "  anon_ne = json.load(f)"
   ]
  },
  {
   "cell_type": "code",
   "execution_count": 20,
   "metadata": {
    "id": "7xh4f6TcNpoE"
   },
   "outputs": [
    {
     "name": "stderr",
     "output_type": "stream",
     "text": [
      "Exception ignored in: <bound method IPythonKernel._clean_thread_parent_frames of <ipykernel.ipkernel.IPythonKernel object at 0x000002051C85CA50>>\n",
      "Traceback (most recent call last):\n",
      "  File \"c:\\Users\\jonas\\anaconda3\\envs\\DSL_NER\\Lib\\site-packages\\ipykernel\\ipkernel.py\", line 790, in _clean_thread_parent_frames\n",
      "    active_threads = {thread.ident for thread in threading.enumerate()}\n",
      "                                                 ^^^^^^^^^^^^^^^^^^^^^\n",
      "  File \"c:\\Users\\jonas\\anaconda3\\envs\\DSL_NER\\Lib\\threading.py\", line 1501, in enumerate\n",
      "    def enumerate():\n",
      "    \n",
      "KeyboardInterrupt: \n"
     ]
    }
   ],
   "source": [
    "with open(os.path.join(val_data_dir,f\"anon_validation_empty.json\"),'r') as f:\n",
    "  anon_empty = json.load(f)"
   ]
  },
  {
   "cell_type": "code",
   "execution_count": 21,
   "metadata": {
    "id": "hnB0PtCDPgfX"
   },
   "outputs": [
    {
     "name": "stdout",
     "output_type": "stream",
     "text": [
      "12359\n"
     ]
    }
   ],
   "source": [
    "with open(os.path.join(val_data_dir,\"citation_validation.json\"),'r') as f:\n",
    "  citations = json.load(f)\n",
    "print(len(citations))"
   ]
  },
  {
   "cell_type": "code",
   "execution_count": 8,
   "metadata": {
    "id": "1rwR5EKaPi2Q"
   },
   "outputs": [],
   "source": [
    "with open(os.path.join(val_data_dir,\"urchadesynthetic-pii-ner-mistral-v1_val.json\"),'r') as f:\n",
    "  pii = json.load(f)"
   ]
  },
  {
   "cell_type": "code",
   "execution_count": 3,
   "metadata": {},
   "outputs": [
    {
     "name": "stdout",
     "output_type": "stream",
     "text": [
      "1973\n"
     ]
    }
   ],
   "source": [
    "with open(os.path.join(val_data_dir,\"pile_mistral_v0.1_val.json\"),'r') as f:\n",
    "    pile_mistral = json.load(f)\n",
    "print(len(pile_mistral))"
   ]
  },
  {
   "cell_type": "code",
   "execution_count": 25,
   "metadata": {},
   "outputs": [
    {
     "name": "stdout",
     "output_type": "stream",
     "text": [
      "4589\n"
     ]
    }
   ],
   "source": [
    "with open(os.path.join(val_data_dir,\"pilener_val.json\"),'r') as f:\n",
    "    pilener = json.load(f)\n",
    "print(len(pilener))"
   ]
  },
  {
   "cell_type": "markdown",
   "metadata": {
    "id": "njjGBbaRWVXV"
   },
   "source": [
    "# utils"
   ]
  },
  {
   "cell_type": "code",
   "execution_count": 4,
   "metadata": {},
   "outputs": [],
   "source": [
    "from utils import exclude_samples_by_labels"
   ]
  },
  {
   "cell_type": "code",
   "execution_count": 5,
   "metadata": {
    "id": "nP9rAMSmWWwa"
   },
   "outputs": [],
   "source": [
    "def get_label_dict(data : list[dict],most_common = 0):\n",
    "    output =  Counter([ner[2] for sample in data for ner in sample['ner']])\n",
    "\n",
    "    if most_common:\n",
    "        return output.most_common(most_common)\n",
    "\n",
    "    else:\n",
    "        return output"
   ]
  },
  {
   "cell_type": "code",
   "execution_count": 6,
   "metadata": {},
   "outputs": [],
   "source": [
    "def check_subset(sample, superset_labels : list) -> bool:\n",
    "    ner_labels = set([x[2] for x in sample['ner']])\n",
    "\n",
    "    return ner_labels.issubset(set(superset_labels))\n",
    "\n"
   ]
  },
  {
   "cell_type": "code",
   "execution_count": 7,
   "metadata": {},
   "outputs": [],
   "source": [
    "def get_top_x_labels(sample,x : int) -> list:\n",
    "    return list(set([x[0] for x in get_label_dict(sample,most_common=x)]))"
   ]
  },
  {
   "cell_type": "markdown",
   "metadata": {
    "id": "qNPwOThzQK__"
   },
   "source": [
    "## 10-10-10.json"
   ]
  },
  {
   "cell_type": "code",
   "execution_count": 10,
   "metadata": {
    "id": "8NrhB-etQMh6"
   },
   "outputs": [],
   "source": [
    "random.seed(42)\n",
    "test_v1 = random.sample(anon_ne,10000) + random.sample(anon_empty,10000) + random.sample(citations,10000)\n",
    "\n",
    "with open(os.path.join(val_data_dir,'10_10_10.json'),'w') as f:\n",
    "  json.dump(test_v1,f)"
   ]
  },
  {
   "cell_type": "markdown",
   "metadata": {},
   "source": [
    "## val_anon_10K.json"
   ]
  },
  {
   "cell_type": "code",
   "execution_count": 27,
   "metadata": {},
   "outputs": [],
   "source": [
    "random.seed(0)\n",
    "val_anon_10K = random.sample(anon_ne,10000)\n",
    "\n",
    "with open(os.path.join(val_data_dir,'val_anon_10K.json'),'w') as f:\n",
    "  json.dump(val_anon_10K,f)"
   ]
  },
  {
   "cell_type": "markdown",
   "metadata": {
    "id": "iDpHFEZeVbTZ"
   },
   "source": [
    "## pii-top100.json"
   ]
  },
  {
   "cell_type": "code",
   "execution_count": 30,
   "metadata": {
    "id": "u_7TSyVzWkci"
   },
   "outputs": [],
   "source": [
    "top_100_labels = [x[0] for x in get_label_dict(pii, 100)]\n",
    "top_150_labels = [x[0] for x in get_label_dict(pii, 150)]"
   ]
  },
  {
   "cell_type": "code",
   "execution_count": 35,
   "metadata": {
    "colab": {
     "base_uri": "https://localhost:8080/"
    },
    "id": "cB8PWCvuWsLC",
    "outputId": "1795b202-f86f-4fc8-a55e-b48b0769c0da"
   },
   "outputs": [
    {
     "name": "stdout",
     "output_type": "stream",
     "text": [
      "702\n"
     ]
    }
   ],
   "source": [
    "pii_filtered_100 = [sample for sample in pii if check_subset(sample,top_100_labels)]\n",
    "\n",
    "print(len(pii_filtered_100))"
   ]
  },
  {
   "cell_type": "code",
   "execution_count": 39,
   "metadata": {
    "id": "iTSrWfP-YSnX"
   },
   "outputs": [],
   "source": [
    "with open(os.path.join(val_data_dir,f\"pii_top_100.json\"),'w') as f:\n",
    "  json.dump(pii_filtered_100,f)"
   ]
  },
  {
   "cell_type": "code",
   "execution_count": 40,
   "metadata": {
    "colab": {
     "base_uri": "https://localhost:8080/"
    },
    "id": "eMD8KmdaYoIJ",
    "outputId": "7199c14b-0499-4498-8c38-e9553bdb61a6"
   },
   "outputs": [
    {
     "name": "stdout",
     "output_type": "stream",
     "text": [
      "836\n"
     ]
    }
   ],
   "source": [
    "pii_filtered_150 = [sample for sample in pii if check_subset(sample,top_150_labels)]\n",
    "\n",
    "print(len(pii_filtered_150))"
   ]
  },
  {
   "cell_type": "code",
   "execution_count": 41,
   "metadata": {
    "id": "UW9ak2N3Y1nf"
   },
   "outputs": [],
   "source": [
    "with open(os.path.join(val_data_dir,f\"pii_top_150.json\"),'w') as f:\n",
    "  json.dump(pii_filtered_150,f)"
   ]
  },
  {
   "cell_type": "code",
   "execution_count": null,
   "metadata": {},
   "outputs": [],
   "source": []
  },
  {
   "cell_type": "markdown",
   "metadata": {},
   "source": [
    "## pile-mistral top "
   ]
  },
  {
   "cell_type": "code",
   "execution_count": 49,
   "metadata": {},
   "outputs": [
    {
     "name": "stdout",
     "output_type": "stream",
     "text": [
      "['verb', 'variable', 'gene', 'building', 'inventor', 'game', 'disease or disorder', 'court', 'defendant', 'biological entity', 'programming language', 'role', 'preposition', 'demographic', 'number', 'baseball team', 'measurement', 'activity', 'material', 'chemical substance', 'author', 'legislation', 'relationship', 'actor', 'educational institution', 'service', 'biologicalentity', 'technology company', 'anatomical entity', 'bodypart', 'lawyer', 'technique', 'subtype', 'money', 'streaming service', 'organ', 'football club', 'artwork', 'organism', 'genus', 'people', 'textual entity', 'enzyme', 'quantity', 'website', 'symptom', 'baseball player', 'artifact', 'measure', 'property', 'date', 'compound', 'vehicle', 'string', 'month', 'cell', 'description', 'method', 'scientist', 'relation', 'city', 'mount point offset', 'biological process', 'entity', 'abstract', 'business', 'village', 'group', 'political party', 'numeric', 'noun', 'media', 'event', 'database', 'collection', 'government', 'time', 'application', 'media outlet', 'directory', 'software', 'day', 'class', 'occupation', 'character', 'protein', 'sport', 'chemical', 'town', 'government agency', 'university', 'band', 'abbreviation', 'location', 'component', 'health condition', 'speaker', 'animal', 'country', 'function', 'no subtype', 'physicalobject', 'organization', 'sports team', 'footballer', 'province', 'company', 'military', 'library', 'substance', 'person', 'musician', 'tv show', 'book', 'action', 'anatomical structure', 'politician', 'liquid', 'year', 'object', 'device', 'topic', 'attribute', 'technology', 'region', 'name', 'process', 'duration', 'statement', 'judge', 'disease', 'thing', 'drug', 'product', 'chemicalsubstance', 'physical object', 'concept', 'river', 'document', 'bacteria', 'state', 'school', 'species', 'procedure', 'determiner', 'emotion', 'text', 'professional', 'nationality', 'condition']\n"
     ]
    }
   ],
   "source": [
    "pile_mistral_top_150 = get_top_x_labels(pile_mistral,150)\n",
    "print(pile_mistral_top_150)"
   ]
  },
  {
   "cell_type": "code",
   "execution_count": 51,
   "metadata": {},
   "outputs": [
    {
     "name": "stdout",
     "output_type": "stream",
     "text": [
      "783\n"
     ]
    }
   ],
   "source": [
    "pile_mistral_filtered_150 = [sample for sample in pile_mistral if check_subset(sample,pile_mistral_top_150)]\n",
    "print(len(pile_mistral_filtered_150))\n",
    "\n",
    "with open(os.path.join(val_data_dir,f\"pile_mistral_top150.json\"),'w') as f:\n",
    "    json.dump(pile_mistral_filtered_150,f)"
   ]
  },
  {
   "cell_type": "code",
   "execution_count": 8,
   "metadata": {},
   "outputs": [
    {
     "name": "stdout",
     "output_type": "stream",
     "text": [
      "['political party', 'relation', 'technology company', 'occupation', 'protein', 'compound', 'year', 'day', 'property', 'physical object', 'band', 'time', 'technique', 'location', 'mount point offset', 'game', 'product', 'region', 'media outlet', 'service', 'measurement', 'variable', 'class', 'process', 'device', 'abstract', 'government', 'state', 'chemical substance', 'organization', 'document', 'media', 'anatomical entity', 'legislation', 'substance', 'artifact', 'lawyer', 'description', 'author', 'text', 'symptom', 'determiner', 'statement', 'character', 'building', 'disease', 'university', 'duration', 'technology', 'musician', 'enzyme', 'politician', 'animal', 'football club', 'event', 'city', 'website', 'attribute', 'number', 'village', 'object', 'role', 'person', 'anatomical structure', 'concept', 'name', 'emotion', 'drug', 'company', 'material', 'entity', 'species', 'verb', 'country', 'group', 'court', 'measure', 'speaker', 'procedure', 'demographic', 'date', 'action', 'condition', 'function', 'thing', 'streaming service', 'cell', 'actor', 'government agency', 'quantity', 'scientist', 'noun', 'software', 'physicalobject', 'month', 'sports team', 'component', 'organism', 'topic', 'gene']\n",
      "722\n"
     ]
    }
   ],
   "source": [
    "pile_mistral_top_100 = get_top_x_labels(pile_mistral,100)\n",
    "print(pile_mistral_top_100)\n",
    "\n",
    "pile_mistral_filtered_100 = [sample for sample in pile_mistral if check_subset(sample,pile_mistral_top_100)]\n",
    "print(len(pile_mistral_filtered_100))\n",
    "\n",
    "with open(os.path.join(val_data_dir,f\"pile_mistral_top_100.json\"),'w') as f:\n",
    "    json.dump(pile_mistral_filtered_100,f)"
   ]
  }
 ],
 "metadata": {
  "colab": {
   "authorship_tag": "ABX9TyPQvXCegG3zhiViPrgH1FWY",
   "include_colab_link": true,
   "provenance": []
  },
  "kernelspec": {
   "display_name": "DSL_NER",
   "language": "python",
   "name": "python3"
  },
  "language_info": {
   "codemirror_mode": {
    "name": "ipython",
    "version": 3
   },
   "file_extension": ".py",
   "mimetype": "text/x-python",
   "name": "python",
   "nbconvert_exporter": "python",
   "pygments_lexer": "ipython3",
   "version": "3.11.10"
  }
 },
 "nbformat": 4,
 "nbformat_minor": 0
}
