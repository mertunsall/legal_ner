{
 "cells": [
  {
   "cell_type": "code",
   "execution_count": 1,
   "metadata": {},
   "outputs": [],
   "source": [
    "import json\n",
    "import os\n",
    "import numpy as np\n",
    "\n",
    "from sklearn.model_selection import train_test_split\n",
    "\n",
    "import random"
   ]
  },
  {
   "cell_type": "code",
   "execution_count": 2,
   "metadata": {},
   "outputs": [],
   "source": [
    "pretrain_path = f\"data_pretrain/\"\n",
    "\n",
    "val_path = f\"val_data_all\"\n",
    "\n",
    "test_path = f\"test_data_all\"\n",
    "\n",
    "train_path = f\"train_data_all\""
   ]
  },
  {
   "cell_type": "code",
   "execution_count": 3,
   "metadata": {},
   "outputs": [],
   "source": [
    "with open(os.path.join(pretrain_path,f\"pile_mistral_v0.1.json\"),'r') as f:\n",
    "    data_pile = json.load(f)"
   ]
  },
  {
   "cell_type": "code",
   "execution_count": null,
   "metadata": {},
   "outputs": [
    {
     "data": {
      "text/plain": [
       "[[139, 142, 'Steamer'],\n",
       " [208, 211, 'Captain'],\n",
       " [126, 130, 'Date'],\n",
       " [151, 151, 'Location'],\n",
       " [6, 6, 'Location'],\n",
       " [90, 90, 'Location'],\n",
       " [153, 153, 'Location'],\n",
       " [4, 5, 'Location'],\n",
       " [11, 12, 'Location'],\n",
       " [35, 36, 'Location'],\n",
       " [117, 118, 'Location'],\n",
       " [132, 133, 'Location'],\n",
       " [138, 138, 'Quantity'],\n",
       " [26, 26, 'Quantity'],\n",
       " [24, 26, 'Quantity'],\n",
       " [29, 31, 'Quantity'],\n",
       " [102, 105, 'Organization']]"
      ]
     },
     "execution_count": 11,
     "metadata": {},
     "output_type": "execute_result"
    }
   ],
   "source": [
    "data_pile[0]['ner'] #we see that the tags are capitalized"
   ]
  },
  {
   "cell_type": "code",
   "execution_count": 12,
   "metadata": {},
   "outputs": [],
   "source": [
    "#we lowercase the labels for pile_mistral\n",
    "\n",
    "def lowercase_label(sample : dict) -> dict:\n",
    "    for x in sample['ner']:\n",
    "        x[2] = x[2].lower()\n",
    "    return sample"
   ]
  },
  {
   "cell_type": "code",
   "execution_count": 15,
   "metadata": {},
   "outputs": [],
   "source": [
    "data_pile_lc = [lowercase_label(sample) for sample in data_pile]\n",
    "data_pile_lc[0]['ner'] #we see that the tags are capitalized\n",
    "\n",
    "#save the lowercased version:\n",
    "\n",
    "with open(os.path.join(pretrain_path,f\"pile_mistral_v0.1.lowercased.json\"),'w') as f:\n",
    "    json.dump(data_pile,f)"
   ]
  },
  {
   "cell_type": "code",
   "execution_count": 16,
   "metadata": {},
   "outputs": [],
   "source": [
    "with open(os.path.join(pretrain_path,f\"pile_mistral_v0.1.lowercased.json\"),'r') as f:\n",
    "    data_pile = json.load(f)"
   ]
  },
  {
   "cell_type": "code",
   "execution_count": 4,
   "metadata": {},
   "outputs": [],
   "source": [
    "with open(os.path.join(pretrain_path,f\"urchadesynthetic-pii-ner-mistral-v1.json\"),'r') as f:\n",
    "    data_pii = json.load(f)"
   ]
  },
  {
   "cell_type": "code",
   "execution_count": 17,
   "metadata": {},
   "outputs": [],
   "source": [
    "data_pile_train_val, data_pile_test = train_test_split(data_pile,test_size=0.1)\n",
    "data_pile_train, data_pile_val = train_test_split(data_pile_train_val,test_size=1/9)"
   ]
  },
  {
   "cell_type": "code",
   "execution_count": 18,
   "metadata": {},
   "outputs": [],
   "source": [
    "data_pii_train_val, data_pii_test = train_test_split(data_pii,test_size=0.1)\n",
    "data_pii_train, data_pii_val = train_test_split(data_pii_train_val,test_size=1/9)"
   ]
  },
  {
   "cell_type": "code",
   "execution_count": 19,
   "metadata": {},
   "outputs": [],
   "source": [
    "with open(os.path.join(train_path,f\"pile_mistral_v0.1_train.json\"),'w') as f:\n",
    "    json.dump(data_pile_train,f)\n",
    "\n",
    "with open(os.path.join(val_path,f\"pile_mistral_v0.1_val.json\"),'w') as f:\n",
    "    json.dump(data_pile_val,f)\n",
    "\n",
    "with open(os.path.join(test_path,f\"pile_mistral_v0.1_test.json\"),'w') as f:\n",
    "    json.dump(data_pile_test,f)\n",
    "\n",
    "with open(os.path.join(train_path,f\"urchadesynthetic-pii-ner-mistral-v1_train.json\"),'w') as f:\n",
    "    json.dump(data_pii_train,f)\n",
    "\n",
    "with open(os.path.join(val_path,f\"urchadesynthetic-pii-ner-mistral-v1_val.json\"),'w') as f:\n",
    "    json.dump(data_pii_val,f)\n",
    "\n",
    "with open(os.path.join(test_path,f\"urchadesynthetic-pii-ner-mistral-v1_test.json\"),'w') as f:\n",
    "    json.dump(data_pii_test,f)\n"
   ]
  },
  {
   "cell_type": "code",
   "execution_count": 8,
   "metadata": {},
   "outputs": [],
   "source": [
    "with open(os.path.join(pretrain_path,f\"pilener_train.json\"),\"r\") as f:\n",
    "    pilener = json.load(f)"
   ]
  },
  {
   "cell_type": "code",
   "execution_count": 9,
   "metadata": {},
   "outputs": [],
   "source": [
    "pilener_train_val, pilener_test = train_test_split(pilener,test_size=0.1)\n",
    "pilener_train, pilener_val = train_test_split(pilener_train_val,test_size=1/9)"
   ]
  },
  {
   "cell_type": "code",
   "execution_count": 10,
   "metadata": {},
   "outputs": [],
   "source": [
    "with open(os.path.join(train_path,f\"pilener_train.json\"),'w') as f:\n",
    "    json.dump(pilener_train,f)\n",
    "\n",
    "with open(os.path.join(val_path,f\"pilener_val.json\"),'w') as f:\n",
    "    json.dump(pilener_val,f)\n",
    "\n",
    "with open(os.path.join(test_path,f\"pilener_test.json\"),'w') as f:\n",
    "    json.dump(pilener_test,f)"
   ]
  }
 ],
 "metadata": {
  "kernelspec": {
   "display_name": "DSL_NER",
   "language": "python",
   "name": "python3"
  },
  "language_info": {
   "codemirror_mode": {
    "name": "ipython",
    "version": 3
   },
   "file_extension": ".py",
   "mimetype": "text/x-python",
   "name": "python",
   "nbconvert_exporter": "python",
   "pygments_lexer": "ipython3",
   "version": "3.11.10"
  }
 },
 "nbformat": 4,
 "nbformat_minor": 2
}
