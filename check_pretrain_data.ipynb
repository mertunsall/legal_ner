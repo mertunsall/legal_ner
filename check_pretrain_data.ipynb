{
 "cells": [
  {
   "cell_type": "code",
   "execution_count": 1,
   "metadata": {},
   "outputs": [],
   "source": [
    "import json\n",
    "import os\n",
    "import numpy as np\n",
    "\n",
    "from sklearn.model_selection import train_test_split\n",
    "\n",
    "import random"
   ]
  },
  {
   "cell_type": "code",
   "execution_count": 2,
   "metadata": {},
   "outputs": [],
   "source": [
    "pretrain_path = f\"data_pretrain/\"\n",
    "\n",
    "val_path = f\"val_data_all\"\n",
    "\n",
    "test_path = f\"test_data_all\"\n",
    "\n",
    "train_path = f\"train_data_all\""
   ]
  },
  {
   "cell_type": "code",
   "execution_count": 3,
   "metadata": {},
   "outputs": [],
   "source": [
    "with open(os.path.join(pretrain_path,f\"pile_mistral_v0.1.json\"),'r') as f:\n",
    "    data_pile = json.load(f)"
   ]
  },
  {
   "cell_type": "code",
   "execution_count": 4,
   "metadata": {},
   "outputs": [],
   "source": [
    "with open(os.path.join(pretrain_path,f\"urchadesynthetic-pii-ner-mistral-v1.json\"),'r') as f:\n",
    "    data_pii = json.load(f)"
   ]
  },
  {
   "cell_type": "code",
   "execution_count": 5,
   "metadata": {},
   "outputs": [],
   "source": [
    "data_pile_train_val, data_pile_test = train_test_split(data_pile,test_size=0.1)\n",
    "data_pile_train, data_pile_val = train_test_split(data_pile_train_val,test_size=1/9)"
   ]
  },
  {
   "cell_type": "code",
   "execution_count": 6,
   "metadata": {},
   "outputs": [],
   "source": [
    "data_pii_train_val, data_pii_test = train_test_split(data_pii,test_size=0.1)\n",
    "data_pii_train, data_pii_val = train_test_split(data_pii_train_val,test_size=1/9)"
   ]
  },
  {
   "cell_type": "code",
   "execution_count": 7,
   "metadata": {},
   "outputs": [],
   "source": [
    "with open(os.path.join(train_path,f\"pile_mistral_v0.1_train.json\"),'w') as f:\n",
    "    json.dump(data_pile_train,f)\n",
    "\n",
    "with open(os.path.join(val_path,f\"pile_mistral_v0.1_val.json\"),'w') as f:\n",
    "    json.dump(data_pile_val,f)\n",
    "\n",
    "with open(os.path.join(test_path,f\"pile_mistral_v0.1_test.json\"),'w') as f:\n",
    "    json.dump(data_pile_test,f)\n",
    "\n",
    "with open(os.path.join(train_path,f\"urchadesynthetic-pii-ner-mistral-v1_train.json\"),'w') as f:\n",
    "    json.dump(data_pii_train,f)\n",
    "\n",
    "with open(os.path.join(val_path,f\"urchadesynthetic-pii-ner-mistral-v1_val.json\"),'w') as f:\n",
    "    json.dump(data_pii_val,f)\n",
    "\n",
    "with open(os.path.join(test_path,f\"urchadesynthetic-pii-ner-mistral-v1_test.json\"),'w') as f:\n",
    "    json.dump(data_pii_test,f)\n"
   ]
  }
 ],
 "metadata": {
  "kernelspec": {
   "display_name": "DSL_NER",
   "language": "python",
   "name": "python3"
  },
  "language_info": {
   "codemirror_mode": {
    "name": "ipython",
    "version": 3
   },
   "file_extension": ".py",
   "mimetype": "text/x-python",
   "name": "python",
   "nbconvert_exporter": "python",
   "pygments_lexer": "ipython3",
   "version": "3.11.10"
  }
 },
 "nbformat": 4,
 "nbformat_minor": 2
}
