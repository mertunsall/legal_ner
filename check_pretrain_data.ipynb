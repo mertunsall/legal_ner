{
 "cells": [
  {
   "cell_type": "code",
   "execution_count": 12,
   "metadata": {},
   "outputs": [],
   "source": [
    "import json\n",
    "import os\n",
    "import numpy as np\n",
    "\n",
    "from sklearn.model_selection import train_test_split\n",
    "\n",
    "import random"
   ]
  },
  {
   "cell_type": "code",
   "execution_count": 7,
   "metadata": {},
   "outputs": [],
   "source": [
    "pretrain_path = f\"data_pretrain/\""
   ]
  },
  {
   "cell_type": "code",
   "execution_count": 16,
   "metadata": {},
   "outputs": [],
   "source": [
    "with open(os.path.join(pretrain_path,f\"pile_mistral_v0.1.json\"),'r') as f:\n",
    "    data_pile = json.load(f)"
   ]
  },
  {
   "cell_type": "code",
   "execution_count": 17,
   "metadata": {},
   "outputs": [],
   "source": [
    "with open(os.path.join(pretrain_path,f\"urchadesynthetic-pii-ner-mistral-v1.json\"),'r') as f:\n",
    "    data_pii = json.load(f)"
   ]
  },
  {
   "cell_type": "code",
   "execution_count": 18,
   "metadata": {},
   "outputs": [],
   "source": [
    "data_pile_train_val, data_pile_test = train_test_split(data_pile,test_size=0.1)"
   ]
  },
  {
   "cell_type": "code",
   "execution_count": 19,
   "metadata": {},
   "outputs": [],
   "source": [
    "data_pii_train_val, data_pii_test = train_test_split(data_pii,test_size=0.1)"
   ]
  },
  {
   "cell_type": "code",
   "execution_count": 21,
   "metadata": {},
   "outputs": [],
   "source": [
    "with open(os.path.join(pretrain_path,f\"train/pile_mistral_v0.1_train_val.json\"),'w') as f:\n",
    "    json.dump(data_pile_train_val,f)\n",
    "\n",
    "with open(os.path.join(pretrain_path,f\"test/pile_mistral_v0.1_test.json\"),'w') as f:\n",
    "    json.dump(data_pile_test,f)\n",
    "\n",
    "with open(os.path.join(pretrain_path,f\"train/urchadesynthetic-pii-ner-mistral-v1_train_val.json\"),'w') as f:\n",
    "    json.dump(data_pii_train_val,f)\n",
    "\n",
    "with open(os.path.join(pretrain_path,f\"test/urchadesynthetic-pii-ner-mistral-v1_test.json\"),'w') as f:\n",
    "    json.dump(data_pii_test,f)"
   ]
  }
 ],
 "metadata": {
  "kernelspec": {
   "display_name": "DSL_NER",
   "language": "python",
   "name": "python3"
  },
  "language_info": {
   "codemirror_mode": {
    "name": "ipython",
    "version": 3
   },
   "file_extension": ".py",
   "mimetype": "text/x-python",
   "name": "python",
   "nbconvert_exporter": "python",
   "pygments_lexer": "ipython3",
   "version": "3.11.10"
  }
 },
 "nbformat": 4,
 "nbformat_minor": 2
}
