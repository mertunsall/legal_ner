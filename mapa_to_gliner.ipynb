{
 "cells": [
  {
   "cell_type": "code",
   "execution_count": 10,
   "metadata": {},
   "outputs": [],
   "source": [
    "from datasets import load_dataset\n",
    "import json\n",
    "import os"
   ]
  },
  {
   "cell_type": "markdown",
   "metadata": {},
   "source": [
    "# joelniklaus's mapa dataset for OOD evaluation\n",
    "\n",
    "source : https://huggingface.co/datasets/joelniklaus/mapa"
   ]
  },
  {
   "cell_type": "markdown",
   "metadata": {},
   "source": [
    "## utils"
   ]
  },
  {
   "cell_type": "code",
   "execution_count": 11,
   "metadata": {},
   "outputs": [],
   "source": [
    "test_dir = f\"test_data_all\""
   ]
  },
  {
   "cell_type": "code",
   "execution_count": 12,
   "metadata": {},
   "outputs": [],
   "source": [
    "def ner_tags_to_spans(samples, coarse = True):\n",
    "    \"\"\"\n",
    "    Converts NER tags in the dataset samples to spans (start, end, entity type).\n",
    "    \n",
    "    Args:\n",
    "        samples (dict): A dictionary containing the tokens and NER tags.\n",
    "        tag_to_id (dict): A dictionary mapping NER tags to IDs.\n",
    "    \n",
    "    Returns:\n",
    "        dict: A dictionary containing tokenized text and corresponding NER spans.\n",
    "    \"\"\"\n",
    "    if coarse:\n",
    "        key = \"coarse_grained\"\n",
    "    else: \n",
    "        key = \"fine_grained\"\n",
    "\n",
    "\n",
    "    ner_labels = samples[key]\n",
    "    spans = []\n",
    "    start_pos = None\n",
    "    entity_name = None\n",
    "\n",
    "    for i,label in enumerate(ner_labels):\n",
    "        if label == \"O\":  # 'O' tag\n",
    "            if entity_name is not None:\n",
    "                spans.append((start_pos, i - 1, entity_name))\n",
    "                entity_name = None\n",
    "                start_pos = None\n",
    "        else:\n",
    "            if label.startswith('B-'):\n",
    "                if entity_name is not None:\n",
    "                    spans.append((start_pos, i - 1, entity_name))\n",
    "                entity_name = label[2:].lower()\n",
    "                start_pos = i\n",
    "            elif label.startswith('I-'):\n",
    "                continue\n",
    "\n",
    "    # Handle the last entity if the sentence ends with an entity\n",
    "    if entity_name is not None:\n",
    "        spans.append([start_pos, len(samples[\"tokens\"]) - 1, entity_name])\n",
    "    \n",
    "    return {\"tokenized_text\": samples[\"tokens\"], \"ner\": spans}"
   ]
  },
  {
   "cell_type": "code",
   "execution_count": 13,
   "metadata": {},
   "outputs": [],
   "source": [
    "mapa = load_dataset(\"joelniklaus/mapa\",split=\"test\")"
   ]
  },
  {
   "cell_type": "code",
   "execution_count": 14,
   "metadata": {},
   "outputs": [
    {
     "data": {
      "text/plain": [
       "Dataset({\n",
       "    features: ['language', 'type', 'file_name', 'sentence_number', 'tokens', 'coarse_grained', 'fine_grained'],\n",
       "    num_rows: 10590\n",
       "})"
      ]
     },
     "execution_count": 14,
     "metadata": {},
     "output_type": "execute_result"
    }
   ],
   "source": [
    "mapa"
   ]
  },
  {
   "cell_type": "code",
   "execution_count": 15,
   "metadata": {},
   "outputs": [
    {
     "name": "stdout",
     "output_type": "stream",
     "text": [
      "[[3, 5, 'organisation']]\n",
      "['O', 'O', 'O', 'B-ORGANISATION', 'I-ORGANISATION', 'I-ORGANISATION']\n"
     ]
    }
   ],
   "source": [
    "print(ner_tags_to_spans(mapa[5])['ner'])\n",
    "\n",
    "print(mapa[5]['coarse_grained'])"
   ]
  },
  {
   "cell_type": "code",
   "execution_count": 16,
   "metadata": {},
   "outputs": [
    {
     "name": "stdout",
     "output_type": "stream",
     "text": [
      "558\n",
      "{'tokenized_text': ['SCHLUSSANTRÄGE', 'DES', 'GENERALANWALTS'], 'ner': []}\n",
      "490\n",
      "{'tokenized_text': ['CONCLUSIONS', 'DE', 'L', '’', 'AVOCAT', 'GÉNÉRAL', 'M', '.'], 'ner': [[4, 7, 'person']]}\n",
      "550\n",
      "{'tokenized_text': ['CONCLUSIONI', 'DELL', '’', 'AVVOCATO', 'GENERALE'], 'ner': []}\n"
     ]
    }
   ],
   "source": [
    "data_de_coarse = [ner_tags_to_spans(i,coarse=True) for i in mapa if i['language'] == 'de']\n",
    "print(len(data_de_coarse))\n",
    "print(data_de_coarse[0])\n",
    "\n",
    "with open(os.path.join(test_dir,f\"mapa_de_coarse.json\"),'w') as f:\n",
    "    json.dump(data_de_coarse,f)\n",
    "\n",
    "data_fr_coarse = [ner_tags_to_spans(i,coarse=True) for i in mapa if i['language'] == 'fr']\n",
    "print(len(data_fr_coarse))\n",
    "print(data_fr_coarse[0])\n",
    "\n",
    "with open(os.path.join(test_dir,f\"mapa_fr_coarse.json\"),'w') as f:\n",
    "    json.dump(data_fr_coarse,f)\n",
    "\n",
    "data_it_coarse = [ner_tags_to_spans(i,coarse=True) for i in mapa if i['language'] == 'it']\n",
    "print(len(data_it_coarse))\n",
    "print(data_it_coarse[0])\n",
    "\n",
    "with open(os.path.join(test_dir,f\"mapa_it_coarse.json\"),'w') as f:\n",
    "    json.dump(data_it_coarse,f)"
   ]
  },
  {
   "cell_type": "code",
   "execution_count": 17,
   "metadata": {},
   "outputs": [
    {
     "name": "stdout",
     "output_type": "stream",
     "text": [
      "558\n",
      "{'tokenized_text': ['SCHLUSSANTRÄGE', 'DES', 'GENERALANWALTS'], 'ner': []}\n",
      "490\n",
      "{'tokenized_text': ['CONCLUSIONS', 'DE', 'L', '’', 'AVOCAT', 'GÉNÉRAL', 'M', '.'], 'ner': [(4, 5, 'role'), [6, 7, 'title']]}\n",
      "550\n",
      "{'tokenized_text': ['CONCLUSIONI', 'DELL', '’', 'AVVOCATO', 'GENERALE'], 'ner': [[3, 4, 'role']]}\n"
     ]
    }
   ],
   "source": [
    "data_de_fine = [ner_tags_to_spans(i,coarse=False) for i in mapa if i['language'] == 'de']\n",
    "print(len(data_de_fine))\n",
    "print(data_de_fine[0])\n",
    "\n",
    "with open(os.path.join(test_dir,f\"mapa_de_fine.json\"),'w') as f:\n",
    "    json.dump(data_de_fine,f)\n",
    "\n",
    "data_fr_fine = [ner_tags_to_spans(i,coarse=False) for i in mapa if i['language'] == 'fr']\n",
    "print(len(data_fr_fine))\n",
    "print(data_fr_fine[0])\n",
    "\n",
    "with open(os.path.join(test_dir,f\"mapa_fr_fine.json\"),'w') as f:\n",
    "    json.dump(data_fr_fine,f)\n",
    "\n",
    "data_it_fine = [ner_tags_to_spans(i,coarse=False) for i in mapa if i['language'] == 'it']\n",
    "print(len(data_it_fine))\n",
    "print(data_it_fine[0])\n",
    "\n",
    "with open(os.path.join(test_dir,f\"mapa_it_fine.json\"),'w') as f:\n",
    "    json.dump(data_it_fine,f)"
   ]
  },
  {
   "cell_type": "code",
   "execution_count": 18,
   "metadata": {},
   "outputs": [],
   "source": [
    "from utils import get_all_labels"
   ]
  },
  {
   "cell_type": "code",
   "execution_count": 19,
   "metadata": {},
   "outputs": [
    {
     "data": {
      "text/plain": [
       "['person', 'date', 'organisation', 'address', 'amount']"
      ]
     },
     "execution_count": 19,
     "metadata": {},
     "output_type": "execute_result"
    }
   ],
   "source": [
    "get_all_labels(data_de_coarse)"
   ]
  },
  {
   "cell_type": "code",
   "execution_count": 23,
   "metadata": {},
   "outputs": [
    {
     "data": {
      "text/plain": [
       "['role',\n",
       " 'title',\n",
       " 'family name',\n",
       " 'day',\n",
       " 'month',\n",
       " 'year',\n",
       " 'country',\n",
       " 'profession',\n",
       " 'age',\n",
       " 'url',\n",
       " 'nationality',\n",
       " 'value',\n",
       " 'unit',\n",
       " 'territory',\n",
       " 'place']"
      ]
     },
     "execution_count": 23,
     "metadata": {},
     "output_type": "execute_result"
    }
   ],
   "source": [
    "get_all_labels(data_fr_fine)"
   ]
  }
 ],
 "metadata": {
  "kernelspec": {
   "display_name": "DSL_NER",
   "language": "python",
   "name": "python3"
  },
  "language_info": {
   "codemirror_mode": {
    "name": "ipython",
    "version": 3
   },
   "file_extension": ".py",
   "mimetype": "text/x-python",
   "name": "python",
   "nbconvert_exporter": "python",
   "pygments_lexer": "ipython3",
   "version": "3.11.10"
  }
 },
 "nbformat": 4,
 "nbformat_minor": 2
}
