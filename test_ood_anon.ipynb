{
 "cells": [
  {
   "cell_type": "code",
   "execution_count": 14,
   "metadata": {},
   "outputs": [
    {
     "data": {
      "text/plain": [
       "48"
      ]
     },
     "execution_count": 14,
     "metadata": {},
     "output_type": "execute_result"
    }
   ],
   "source": [
    "import json\n",
    "\n",
    "# Read the JSON file\n",
    "with open('ood_data/names.txt', 'r') as file:\n",
    "    data = json.load(file)\n",
    "\n",
    "len(data)"
   ]
  },
  {
   "cell_type": "code",
   "execution_count": 15,
   "metadata": {},
   "outputs": [
    {
     "data": {
      "text/plain": [
       "['person', 'org', 'loc', 'amount', 'date of loss']"
      ]
     },
     "execution_count": 15,
     "metadata": {},
     "output_type": "execute_result"
    }
   ],
   "source": [
    "from utils import get_all_labels\n",
    "\n",
    "# Get all the labels\n",
    "labels = get_all_labels(data)\n",
    "labels"
   ]
  },
  {
   "cell_type": "code",
   "execution_count": 16,
   "metadata": {},
   "outputs": [
    {
     "name": "stdout",
     "output_type": "stream",
     "text": [
      "person: ['Thomas', 'arbeitet']\n",
      "org: ['SBB', 'in']\n",
      "loc: ['Aarau', '.']\n",
      "loc: ['Sch', 'ö', 'nenwerd', 'versetzt']\n"
     ]
    }
   ],
   "source": [
    "# view examples\n",
    "from utils import view\n",
    "view(data[0]['tokenized_text'], data[0]['ner'])"
   ]
  },
  {
   "cell_type": "code",
   "execution_count": 17,
   "metadata": {},
   "outputs": [
    {
     "data": {
      "text/plain": [
       "(48, 48)"
      ]
     },
     "execution_count": 17,
     "metadata": {},
     "output_type": "execute_result"
    }
   ],
   "source": [
    "def helper_map(label):\n",
    "    if label == 'person':\n",
    "        return 'a_name'\n",
    "    if label == 'org':\n",
    "        return 'a_organisation'\n",
    "    if label == 'loc':\n",
    "        return 'a_place'\n",
    "    raise ValueError(f'Unknown label: {label}')\n",
    "\n",
    "def helper_map_baseline(label):\n",
    "    if label == 'person':\n",
    "        return 'person'\n",
    "    if label == 'org':\n",
    "        return 'organization'\n",
    "    if label == 'loc':\n",
    "        return 'place'\n",
    "    raise ValueError(f'Unknown label: {label}')\n",
    "\n",
    "def filter_ood_data(data, helper_map):\n",
    "    # map person -> a_name\n",
    "    # map org -> a_organisation\n",
    "    # map loc -> a_place\n",
    "    # remove all other ner labels\n",
    "    # remove all data points with no ner labels\n",
    "    # adjust the labels to be both inclusive\n",
    "\n",
    "    filtered_data = []\n",
    "    for item in data:\n",
    "        ner_labels = item['ner']\n",
    "        new_ner_labels = []\n",
    "        for label in ner_labels:\n",
    "            if label[2] in ['person', 'org', 'loc']:\n",
    "                new_ner_labels.append((label[0], label[1]-1, helper_map(label[2])))\n",
    "        if len(new_ner_labels) > 0:\n",
    "            filtered_data.append({'tokenized_text': item['tokenized_text'], 'ner': new_ner_labels})\n",
    "\n",
    "    return filtered_data\n",
    "\n",
    "filtered_data = filter_ood_data(data, helper_map)\n",
    "filtered_data_baseline = filter_ood_data(data, helper_map_baseline)\n",
    "len(filtered_data), len(filtered_data_baseline)"
   ]
  },
  {
   "cell_type": "code",
   "execution_count": 20,
   "metadata": {},
   "outputs": [],
   "source": [
    "# save the filtered test data and filtered baseline test data in json files\n",
    "\n",
    "with open('ood_data/test.json', 'w') as file:\n",
    "    json.dump(filtered_data, file, indent = 2)\n",
    "\n",
    "with open('ood_data/test_data_baseline.json', 'w') as file:\n",
    "    json.dump(filtered_data_baseline, file, indent = 2)\n",
    "\n"
   ]
  },
  {
   "cell_type": "code",
   "execution_count": null,
   "metadata": {},
   "outputs": [],
   "source": []
  }
 ],
 "metadata": {
  "kernelspec": {
   "display_name": "dslab",
   "language": "python",
   "name": "python3"
  },
  "language_info": {
   "codemirror_mode": {
    "name": "ipython",
    "version": 3
   },
   "file_extension": ".py",
   "mimetype": "text/x-python",
   "name": "python",
   "nbconvert_exporter": "python",
   "pygments_lexer": "ipython3",
   "version": "3.10.12"
  },
  "orig_nbformat": 4
 },
 "nbformat": 4,
 "nbformat_minor": 2
}
