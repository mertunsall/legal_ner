{
 "cells": [
  {
   "cell_type": "code",
   "execution_count": 2,
   "metadata": {},
   "outputs": [],
   "source": [
    "from finetune_main import train_model, get_dataset_size\n",
    "import os\n",
    "\n",
    "\n"
   ]
  },
  {
   "cell_type": "code",
   "execution_count": null,
   "metadata": {},
   "outputs": [],
   "source": [
    "base_model_name = \"gliner_multi-v2.1\"\n",
    "base_model = f\"urchade/{base_model_name}\"\n",
    "custom_model_name = f\"merged_v1_{base_model_name}\"\n",
    "model_dir = f\"models_generalist/{custom_model_name}\"\n",
    "data_dir = f\"generalist_data/{custom_model_name}_data\"\n",
    "train_path = f\"finetune_data/merged_v1.json\"\n",
    "\n",
    "os.environ[\"TOKENIZERS_PARALLELISM\"] = \"true\"\n",
    "\n",
    "# calculate number of epochs\n",
    "num_steps = 50000\n",
    "batch_size = 8\n",
    "data_size = get_dataset_size\n",
    "num_batches = data_size // batch_size\n",
    "num_epochs = max(1, num_steps // num_batches)\n",
    "\n",
    "split_ratio = 0.9\n",
    "learning_rate = 5e-6\n",
    "weight_decay = 0.05\n",
    "compile_model = False\n",
    "\n",
    "train_model(base_model, \n",
    "            model_dir, \n",
    "            data_dir,\n",
    "            train_path, \n",
    "            split_ratio, \n",
    "            learning_rate, \n",
    "            weight_decay, \n",
    "            batch_size, \n",
    "            num_epochs, \n",
    "            compile_model)"
   ]
  }
 ],
 "metadata": {
  "kernelspec": {
   "display_name": "DSL_NER",
   "language": "python",
   "name": "python3"
  },
  "language_info": {
   "codemirror_mode": {
    "name": "ipython",
    "version": 3
   },
   "file_extension": ".py",
   "mimetype": "text/x-python",
   "name": "python",
   "nbconvert_exporter": "python",
   "pygments_lexer": "ipython3",
   "version": "3.11.10"
  }
 },
 "nbformat": 4,
 "nbformat_minor": 2
}
