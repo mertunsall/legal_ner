{
 "cells": [
  {
   "cell_type": "code",
   "execution_count": 9,
   "metadata": {},
   "outputs": [],
   "source": [
    "import json\n",
    "file = 'citation_data/swiss_citation_extraction.json'\n",
    "filtered_file = 'citation_data/swiss_citation_extraction_filtered.json'"
   ]
  },
  {
   "cell_type": "code",
   "execution_count": 2,
   "metadata": {},
   "outputs": [],
   "source": [
    "with open(file, 'r') as f:\n",
    "    data = json.load(f)"
   ]
  },
  {
   "cell_type": "code",
   "execution_count": 3,
   "metadata": {},
   "outputs": [],
   "source": [
    "tokenized_texts = [data[i]['tokenized_text'] for i in range(len(data))]\n",
    "text_lens = [len(tokenized_texts[i]) for i in range(len(tokenized_texts))]"
   ]
  },
  {
   "cell_type": "code",
   "execution_count": 4,
   "metadata": {},
   "outputs": [
    {
     "name": "stdout",
     "output_type": "stream",
     "text": [
      "Number of texts: 127483\n",
      "Mean text length: 209.63097040389698\n",
      "Max text length: 423\n",
      "Min text length: 31\n",
      "Median text length: 221\n",
      "Top 10 text lengths: [423, 416, 382, 358, 354, 352, 347, 338, 338, 336]\n"
     ]
    }
   ],
   "source": [
    "# print summary statistics about text lengths\n",
    "print('Number of texts:', len(tokenized_texts))\n",
    "print('Mean text length:', sum(text_lens) / len(tokenized_texts))\n",
    "print('Max text length:', max(text_lens))\n",
    "print('Min text length:', min(text_lens))\n",
    "print('Median text length:', sorted(text_lens)[len(text_lens) // 2])\n",
    "print('Top 10 text lengths:', sorted(text_lens, reverse=True)[:10])"
   ]
  },
  {
   "cell_type": "code",
   "execution_count": 6,
   "metadata": {},
   "outputs": [
    {
     "name": "stdout",
     "output_type": "stream",
     "text": [
      "Proportion of text lengths more than 32000: 0.0\n"
     ]
    }
   ],
   "source": [
    "# proportion of text lenghts more than 32000\n",
    "MAXLEN = 32000\n",
    "print(f'Proportion of text lengths more than {MAXLEN}:', sum([1 for l in text_lens if l > MAXLEN]) / len(text_lens))"
   ]
  },
  {
   "cell_type": "code",
   "execution_count": 7,
   "metadata": {},
   "outputs": [
    {
     "name": "stdout",
     "output_type": "stream",
     "text": [
      "Number of texts remaining: 113464\n"
     ]
    }
   ],
   "source": [
    "# filter for data points less than 32000 length and existing NER Label\n",
    "filtered_data = [data[i] for i in range(len(data)) if text_lens[i] <= MAXLEN and text_lens[i] > 0 and len(data[i]['ner']) > 0]\n",
    "print('Number of texts remaining:', len(filtered_data))"
   ]
  },
  {
   "cell_type": "code",
   "execution_count": 10,
   "metadata": {},
   "outputs": [],
   "source": [
    "# save the filtered data\n",
    "with open(filtered_file, 'w') as f:\n",
    "    json.dump(filtered_data, f)"
   ]
  },
  {
   "cell_type": "code",
   "execution_count": 11,
   "metadata": {},
   "outputs": [
    {
     "data": {
      "text/plain": [
       "{'tokenized_text': ['Erwägungen',\n",
       "  ':',\n",
       "  '1',\n",
       "  '.',\n",
       "  '1',\n",
       "  '.',\n",
       "  '1',\n",
       "  '.',\n",
       "  'Die',\n",
       "  'Beschwerde',\n",
       "  'kann',\n",
       "  'wegen',\n",
       "  'Rechtsverletzung',\n",
       "  'gemäss',\n",
       "  'Art',\n",
       "  '.',\n",
       "  '95',\n",
       "  'und',\n",
       "  'Art',\n",
       "  '.',\n",
       "  '96',\n",
       "  'BGG',\n",
       "  'erhoben',\n",
       "  'werden',\n",
       "  '.',\n",
       "  'Das',\n",
       "  'Bundesgericht',\n",
       "  'wendet',\n",
       "  'das',\n",
       "  'Recht',\n",
       "  'von',\n",
       "  'Amtes',\n",
       "  'wegen',\n",
       "  'an',\n",
       "  '(',\n",
       "  'Art',\n",
       "  '.',\n",
       "  '106',\n",
       "  'Abs',\n",
       "  '.',\n",
       "  '1',\n",
       "  'BGG',\n",
       "  ')',\n",
       "  '.',\n",
       "  'Es',\n",
       "  'ist',\n",
       "  'somit',\n",
       "  'weder',\n",
       "  'an',\n",
       "  'die',\n",
       "  'in',\n",
       "  'der',\n",
       "  'Beschwerde',\n",
       "  'geltend',\n",
       "  'gemachten',\n",
       "  'Argumente',\n",
       "  'noch',\n",
       "  'an',\n",
       "  'die',\n",
       "  'Erwägungen',\n",
       "  'der',\n",
       "  'Vorinstanz',\n",
       "  'gebunden',\n",
       "  ';',\n",
       "  'es',\n",
       "  'kann',\n",
       "  'eine',\n",
       "  'Beschwerde',\n",
       "  'aus',\n",
       "  'einem',\n",
       "  'anderen',\n",
       "  'als',\n",
       "  'dem',\n",
       "  'angerufenen',\n",
       "  'Grund',\n",
       "  'gutheissen',\n",
       "  'und',\n",
       "  'es',\n",
       "  'kann',\n",
       "  'sie',\n",
       "  'mit',\n",
       "  'einer',\n",
       "  'von',\n",
       "  'der',\n",
       "  'Argumentation',\n",
       "  'der',\n",
       "  'Vorinstanz',\n",
       "  'abweichenden',\n",
       "  'Begründung',\n",
       "  'abweisen',\n",
       "  '(',\n",
       "  'vgl',\n",
       "  '.',\n",
       "  'BGE',\n",
       "  '130',\n",
       "  'III',\n",
       "  '136',\n",
       "  'E',\n",
       "  '.',\n",
       "  '1',\n",
       "  '.',\n",
       "  '4',\n",
       "  'S',\n",
       "  '.',\n",
       "  '140',\n",
       "  ')',\n",
       "  '.',\n",
       "  'Gemäss',\n",
       "  'Art',\n",
       "  '.',\n",
       "  '42',\n",
       "  'Abs',\n",
       "  '.',\n",
       "  '1',\n",
       "  'BGG',\n",
       "  'ist',\n",
       "  'die',\n",
       "  'Beschwerde',\n",
       "  'hinreichend',\n",
       "  'zu',\n",
       "  'begründen',\n",
       "  ',',\n",
       "  'andernfalls',\n",
       "  'wird',\n",
       "  'darauf',\n",
       "  'nicht',\n",
       "  'eingetreten',\n",
       "  '(',\n",
       "  'Art',\n",
       "  '.',\n",
       "  '108',\n",
       "  'Abs',\n",
       "  '.',\n",
       "  '1',\n",
       "  'lit',\n",
       "  '.',\n",
       "  'b',\n",
       "  'BGG',\n",
       "  ')',\n",
       "  '.',\n",
       "  'Das',\n",
       "  'Bundesgericht',\n",
       "  'prüft',\n",
       "  'grundsätzlich',\n",
       "  'nur',\n",
       "  'die',\n",
       "  'geltend',\n",
       "  'gemachten',\n",
       "  'Rügen',\n",
       "  ';',\n",
       "  'es',\n",
       "  'ist',\n",
       "  'nicht',\n",
       "  'gehalten',\n",
       "  ',',\n",
       "  'wie',\n",
       "  'eine',\n",
       "  'erstinstanzliche',\n",
       "  'Behörde',\n",
       "  'alle',\n",
       "  'sich',\n",
       "  'stellenden',\n",
       "  'rechtlichen',\n",
       "  'Fragen',\n",
       "  'zu',\n",
       "  'prüfen',\n",
       "  ',',\n",
       "  'wenn',\n",
       "  'diese',\n",
       "  'vor',\n",
       "  'Bundesgericht',\n",
       "  'nicht',\n",
       "  'mehr',\n",
       "  'vorgetragen',\n",
       "  'wurden',\n",
       "  '.',\n",
       "  'Es',\n",
       "  'kann',\n",
       "  'die',\n",
       "  'Verletzung',\n",
       "  'von',\n",
       "  'Grundrechten',\n",
       "  'und',\n",
       "  'von',\n",
       "  'kantonalem',\n",
       "  'und',\n",
       "  'interkantonalem',\n",
       "  'Recht',\n",
       "  'nur',\n",
       "  'insofern',\n",
       "  'prüfen',\n",
       "  ',',\n",
       "  'als',\n",
       "  'eine',\n",
       "  'solche',\n",
       "  'Rüge',\n",
       "  'in',\n",
       "  'der',\n",
       "  'Beschwerde',\n",
       "  'vorgebracht',\n",
       "  'und',\n",
       "  'begründet',\n",
       "  'worden',\n",
       "  'ist',\n",
       "  '(',\n",
       "  'Art',\n",
       "  '.',\n",
       "  '106',\n",
       "  'Abs',\n",
       "  '.',\n",
       "  '2',\n",
       "  'BGG',\n",
       "  ')',\n",
       "  '.'],\n",
       " 'ner': [[14, 16, 'law'],\n",
       "  [18, 20, 'law'],\n",
       "  [35, 41, 'law'],\n",
       "  [93, 96, 'citation'],\n",
       "  [108, 114, 'law'],\n",
       "  [128, 137, 'law'],\n",
       "  [205, 211, 'law']]}"
      ]
     },
     "execution_count": 11,
     "metadata": {},
     "output_type": "execute_result"
    }
   ],
   "source": [
    "filtered_data[0]"
   ]
  },
  {
   "cell_type": "code",
   "execution_count": 12,
   "metadata": {},
   "outputs": [
    {
     "data": {
      "text/plain": [
       "{'law': 466729, 'citation': 134903}"
      ]
     },
     "execution_count": 12,
     "metadata": {},
     "output_type": "execute_result"
    }
   ],
   "source": [
    "# count all labels in the test dataset\n",
    "def count_labels(data):\n",
    "    label_count = {}\n",
    "    for example in data:\n",
    "        ner_data = example.get(\"ner\", [])\n",
    "        for entity in ner_data:\n",
    "            label = entity[2]  # Assuming the label is the third element in the entity list\n",
    "            if label not in label_count:\n",
    "                label_count[label] = 0\n",
    "            label_count[label] += 1\n",
    "    return label_count\n",
    "\n",
    "label_count = count_labels(filtered_data)\n",
    "label_count"
   ]
  },
  {
   "cell_type": "code",
   "execution_count": null,
   "metadata": {},
   "outputs": [],
   "source": []
  }
 ],
 "metadata": {
  "kernelspec": {
   "display_name": "dslab",
   "language": "python",
   "name": "python3"
  },
  "language_info": {
   "codemirror_mode": {
    "name": "ipython",
    "version": 3
   },
   "file_extension": ".py",
   "mimetype": "text/x-python",
   "name": "python",
   "nbconvert_exporter": "python",
   "pygments_lexer": "ipython3",
   "version": "3.10.12"
  },
  "orig_nbformat": 4
 },
 "nbformat": 4,
 "nbformat_minor": 2
}
