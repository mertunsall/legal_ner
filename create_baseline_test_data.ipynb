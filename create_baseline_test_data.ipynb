{
 "cells": [
  {
   "cell_type": "code",
   "execution_count": 1,
   "metadata": {},
   "outputs": [
    {
     "data": {
      "text/plain": [
       "[[212, 213, 'person'], [230, 231, 'person'], [215, 216, 'person']]"
      ]
     },
     "execution_count": 1,
     "metadata": {},
     "output_type": "execute_result"
    }
   ],
   "source": [
    "import json\n",
    "import os\n",
    "from gliner import GLiNER\n",
    "import torch\n",
    "# @title Fast Mertics\n",
    "\n",
    "# Load the test.json file\n",
    "with open('anon_data/test.json', 'r') as file:\n",
    "    test_data = json.load(file)\n",
    "\n",
    "for i in range(len(test_data)):\n",
    "    for j in range(len(test_data[i]['ner'])):\n",
    "        nr = test_data[i]['ner'][j][2]\n",
    "        if nr == 'a_name':\n",
    "            test_data[i]['ner'][j][2] = 'person'\n",
    "        if nr == 'a_organisation':\n",
    "            test_data[i]['ner'][j][2] = 'organization'\n",
    "        if nr == 'a_place':\n",
    "            test_data[i]['ner'][j][2] = 'place'\n",
    "\n",
    "test_data[0]['ner']\n"
   ]
  },
  {
   "cell_type": "code",
   "execution_count": 2,
   "metadata": {},
   "outputs": [],
   "source": [
    "with open('anon_data/test_data_baseline.json', 'w') as file:\n",
    "    json.dump(test_data, file)"
   ]
  },
  {
   "cell_type": "code",
   "execution_count": null,
   "metadata": {},
   "outputs": [],
   "source": []
  }
 ],
 "metadata": {
  "kernelspec": {
   "display_name": "dslab",
   "language": "python",
   "name": "python3"
  },
  "language_info": {
   "codemirror_mode": {
    "name": "ipython",
    "version": 3
   },
   "file_extension": ".py",
   "mimetype": "text/x-python",
   "name": "python",
   "nbconvert_exporter": "python",
   "pygments_lexer": "ipython3",
   "version": "3.10.12"
  },
  "orig_nbformat": 4
 },
 "nbformat": 4,
 "nbformat_minor": 2
}
